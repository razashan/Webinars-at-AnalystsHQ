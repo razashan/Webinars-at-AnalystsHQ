{
 "cells": [
  {
   "cell_type": "markdown",
   "metadata": {
    "id": "DqHmfuGemzzq"
   },
   "source": [
    "# Digits Recognition using Convolutional Neural Network"
   ]
  },
  {
   "cell_type": "markdown",
   "metadata": {
    "id": "r6qJ0owNmzzv"
   },
   "source": [
    "In this Project CNN is applied on the Dataset of MNIST.<br>\n",
    "MNIST (\"Modified National Institute of Standards and Technology\") is the de facto `“hello world”` dataset of computer vision.\n",
    "Since its release in 1999, this classic dataset of handwritten images has served as the basis for benchmarking classification algorithms.\n",
    "As new machine learning techniques emerge, MNIST remains a reliable resource for researchers and learners alike."
   ]
  },
  {
   "cell_type": "markdown",
   "metadata": {
    "id": "TxJQk4Xemzzv"
   },
   "source": [
    "## Introduction to Convolutional Neural Network (CNN)\n",
    "<img src=\"mnist.png\" alt=\"Alt text\">\n",
    "A Convolutional neural network (CNN) is a neural network that has one or more convolutional layers and are used mainly for image processing, classification, segmentation and also for other auto correlated data.\n",
    "\n",
    "A convolution is essentially sliding a filter over the input. One helpful way to think about convolutions is this quote from Dr Prasad Samarakoon: “A convolution can be thought as “looking at a function’s surroundings to make better/accurate predictions of its outcome.”\n",
    "\n",
    "Rather than looking at an entire image at once to find certain features it can be more effective to look at smaller portions of the image."
   ]
  },
  {
   "cell_type": "markdown",
   "metadata": {
    "id": "38n7ac84mzzw"
   },
   "source": [
    "## Common uses for CNNs\n",
    "The most common use for CNNs is image classification, for example identifying satellite images that contain roads or classifying hand written letters and digits. There are other quite mainstream tasks such as image segmentation and signal processing, for which CNNs perform well at.\n",
    "\n",
    "CNNs have been used for understanding in Natural Language Processing (NLP) and speech recognition, although often for NLP Recurrent Neural Nets (RNNs) are used.\n",
    "\n",
    "A CNN can also be implemented as a U-Net architecture, which are essentially two almost mirrored CNNs resulting in a CNN whose architecture can be presented in a U shape. U-nets are used where the output needs to be of similar size to the input such as segmentation and image improvement."
   ]
  },
  {
   "cell_type": "markdown",
   "metadata": {
    "id": "qsJ3aZtYmzzw"
   },
   "source": [
    "## Convolution Kernel\n",
    "<img src=\"kernel.png\" alt=\"Alt text\">\n",
    "\n",
    "Convolutional neural networks (CNNs), a kernel, also known as a filter or a convolutional filter, refers to a small matrix used to extract specific features from an input image or volume. The kernel is applied through a process called convolution, which involves sliding the kernel across the input data and performing element-wise multiplication and summation.\n",
    "\n",
    "Each kernel is designed to capture a specific pattern or feature in the input data. For example, a kernel might be designed to detect edges, corners, or textures. The values within the kernel matrix are typically learned during the training process of the CNN.\n",
    "\n",
    "During the convolution operation, the kernel is multiplied element-wise with the corresponding pixels or voxels of the input data, and the results are summed to produce a single output value. This process is repeated for each location in the input data, resulting in a feature map that highlights the presence of the specific feature that the kernel is designed to detect.\n",
    "\n",
    "CNNs typically utilize multiple kernels in each layer, allowing them to detect various features simultaneously. These kernels are usually small in size, such as 3x3 or 5x5, but can vary depending on the network architecture and the complexity of the features being detected.\n",
    "\n",
    "By applying different kernels at each layer, CNNs are capable of automatically learning hierarchical representations of the input data, starting from low-level features such as edges and gradually progressing to higher-level features and concepts. This ability to learn and extract relevant features from the input data makes CNNs particularly effective for tasks such as image recognition, object detection, and image classification."
   ]
  },
  {
   "cell_type": "markdown",
   "metadata": {
    "id": "VM_fVqtdmzzx"
   },
   "source": [
    "<img src=\"8.png\" alt=\"Alt text\">\n"
   ]
  },
  {
   "cell_type": "markdown",
   "metadata": {
    "id": "RfprwpOgmzzx"
   },
   "source": [
    "## Padding in CNN\n",
    "<img src=\"9.png\" alt=\"Alt text\">\n",
    "\n",
    "In convolutional neural networks (CNNs), padding refers to the process of adding extra border pixels around the input image or feature map before applying convolutional operations. Padding is commonly used to control the spatial dimensions of the output feature maps and to address the issue of dimensionality reduction that occurs during convolution.\n",
    "\n",
    "When a convolution operation is applied without padding, the spatial dimensions of the output feature maps are reduced compared to the input. This reduction occurs because the kernel, or filter, cannot be centered on the pixels at the edges of the input, resulting in incomplete coverage. As a result, the output feature maps have smaller spatial dimensions.\n",
    "\n",
    "Padding is used to address this issue by adding extra pixels around the input, effectively increasing its size. These additional pixels are typically filled with zeros, which is known as zero-padding. The padding ensures that the kernel can be properly centered on all pixels, including those at the edges of the input.\n",
    "<br><br>\n",
    "Padding in CNNs offers several benefits:\n",
    "<br><br>\n",
    "1. Preservation of spatial information: Padding helps retain the spatial dimensions of the input throughout the convolutional layers, allowing the network to capture and preserve more spatial information.\n",
    "\n",
    "2. Mitigation of border effects: Padding mitigates the border effects that occur when convolutions are applied near the edges of the input. Without padding, pixels near the edges would have fewer connections and receive less attention from the network.\n",
    "\n",
    "3. Alignment of input and output: By using padding, the input and output feature maps can have the same spatial dimensions, simplifying the architecture and calculations in subsequent layers.\n",
    "\n",
    "4. Enhanced receptive field: Padding allows the receptive field of each neuron to be larger, as the extra pixels provide more context for the convolutional operations. This can improve the network's ability to capture both local and global patterns."
   ]
  },
  {
   "cell_type": "markdown",
   "metadata": {
    "id": "L9Ougk8Xmzzy"
   },
   "source": [
    "## Stride in CNN\n",
    "<img src=\"10.png\" alt=\"Alt text\">\n",
    "\n",
    "In convolutional neural networks (CNNs), the stride refers to the step size with which the convolutional kernel or filter is moved across the input image or feature map during the convolution operation. It determines how much the kernel shifts horizontally and vertically after each convolution operation.\n",
    "\n",
    "When performing convolution, the kernel is typically applied to every possible position of the input, moving one pixel at a time. This is known as a stride of 1. However, the stride value can be adjusted to control the spatial dimensions of the output feature maps.\n",
    "\n",
    "By using a stride greater than 1, such as 2 or more, the kernel skips over positions during the convolution operation. This leads to a reduction in the spatial dimensions of the output feature maps compared to the input. The larger the stride, the greater the reduction in spatial dimensions.\n",
    "\n",
    "The stride value affects two main aspects of the convolution operation:\n",
    "\n",
    "1. Output size: A larger stride results in a smaller output size. With a stride of 1, the output size is approximately equal to the input size. However, with a stride greater than 1, the output size is reduced because the kernel covers fewer positions.\n",
    "\n",
    "2. Overlapping receptive fields: When the stride is greater than 1, the receptive fields of adjacent neurons in the output feature map do not overlap completely. This reduces the amount of overlap between neighboring receptive fields and can lead to a loss of information. However, it also provides an opportunity for the network to capture more global patterns by considering larger regions of the input.\n",
    "\n",
    "Using a larger stride can be advantageous in certain scenarios:\n",
    "\n",
    "1. Spatial dimension reduction: By increasing the stride, the spatial dimensions of the output feature maps can be reduced, which can help reduce computational complexity and memory requirements in the network.\n",
    "\n",
    "2. Downsampling: Strided convolutions can be used as a form of downsampling, allowing the network to capture high-level features from larger receptive fields. This can be beneficial in tasks such as image classification or object detection.\n",
    "\n",
    "Faster processing: With a larger stride, fewer convolutions need to be performed, resulting in faster computation during both training and inference.\n",
    "\n",
    "It's important to note that using a larger stride can result in a loss of spatial resolution and information, as finer details may be missed during the convolution process. Therefore, the choice of stride value should be carefully considered based on the specific requirements of the task and the characteristics of the input data."
   ]
  },
  {
   "cell_type": "markdown",
   "metadata": {
    "id": "zCXJIXXpmzzz"
   },
   "source": [
    "# Task\n",
    "To correctly identify digits from a dataset of tens of thousands of handwritten images in the test dataset"
   ]
  },
  {
   "cell_type": "markdown",
   "metadata": {
    "id": "h4YXyE_Jmzzz"
   },
   "source": [
    "# Dataset\n",
    "[Digit Recognizer](https://www.kaggle.com/competitions/digit-recognizer)\n"
   ]
  },
  {
   "cell_type": "markdown",
   "metadata": {
    "id": "55bxSjXHmzz0"
   },
   "source": [
    "## Importing Libraries"
   ]
  },
  {
   "cell_type": "code",
   "execution_count": 2,
   "metadata": {
    "id": "zqBqNV9acn-J"
   },
   "outputs": [],
   "source": [
    "import numpy as np\n",
    "import pandas as pd\n",
    "import matplotlib.pyplot as plt\n",
    "import seaborn as sns\n",
    "import matplotlib.image as mpimg\n",
    "from sklearn.model_selection import train_test_split\n",
    "from sklearn.metrics import confusion_matrix, classification_report\n",
    "from tensorflow.keras.utils import to_categorical\n",
    "from tensorflow.keras.models import Sequential\n",
    "from tensorflow.keras.layers import Conv2D, MaxPool2D, Dense, Flatten, Dropout"
   ]
  },
  {
   "cell_type": "code",
   "execution_count": 3,
   "metadata": {
    "id": "VnPQtPaid2ZC"
   },
   "outputs": [],
   "source": [
    "train = pd.read_csv(\"/content/train.csv\")\n",
    "test = pd.read_csv(\"/content/test.csv\")"
   ]
  },
  {
   "cell_type": "code",
   "execution_count": 4,
   "metadata": {
    "colab": {
     "base_uri": "https://localhost:8080/",
     "height": 300
    },
    "id": "MXy76HZDhDQr",
    "outputId": "af694544-0b68-4301-a999-4b76c3969f2e"
   },
   "outputs": [
    {
     "data": {
      "text/html": [
       "\n",
       "  <div id=\"df-7dae1efe-baa3-48fc-9d25-7086890c59dd\">\n",
       "    <div class=\"colab-df-container\">\n",
       "      <div>\n",
       "<style scoped>\n",
       "    .dataframe tbody tr th:only-of-type {\n",
       "        vertical-align: middle;\n",
       "    }\n",
       "\n",
       "    .dataframe tbody tr th {\n",
       "        vertical-align: top;\n",
       "    }\n",
       "\n",
       "    .dataframe thead th {\n",
       "        text-align: right;\n",
       "    }\n",
       "</style>\n",
       "<table border=\"1\" class=\"dataframe\">\n",
       "  <thead>\n",
       "    <tr style=\"text-align: right;\">\n",
       "      <th></th>\n",
       "      <th>label</th>\n",
       "      <th>pixel0</th>\n",
       "      <th>pixel1</th>\n",
       "      <th>pixel2</th>\n",
       "      <th>pixel3</th>\n",
       "      <th>pixel4</th>\n",
       "      <th>pixel5</th>\n",
       "      <th>pixel6</th>\n",
       "      <th>pixel7</th>\n",
       "      <th>pixel8</th>\n",
       "      <th>...</th>\n",
       "      <th>pixel774</th>\n",
       "      <th>pixel775</th>\n",
       "      <th>pixel776</th>\n",
       "      <th>pixel777</th>\n",
       "      <th>pixel778</th>\n",
       "      <th>pixel779</th>\n",
       "      <th>pixel780</th>\n",
       "      <th>pixel781</th>\n",
       "      <th>pixel782</th>\n",
       "      <th>pixel783</th>\n",
       "    </tr>\n",
       "  </thead>\n",
       "  <tbody>\n",
       "    <tr>\n",
       "      <th>0</th>\n",
       "      <td>1</td>\n",
       "      <td>0</td>\n",
       "      <td>0</td>\n",
       "      <td>0</td>\n",
       "      <td>0</td>\n",
       "      <td>0</td>\n",
       "      <td>0</td>\n",
       "      <td>0</td>\n",
       "      <td>0</td>\n",
       "      <td>0</td>\n",
       "      <td>...</td>\n",
       "      <td>0</td>\n",
       "      <td>0</td>\n",
       "      <td>0</td>\n",
       "      <td>0</td>\n",
       "      <td>0</td>\n",
       "      <td>0</td>\n",
       "      <td>0</td>\n",
       "      <td>0</td>\n",
       "      <td>0</td>\n",
       "      <td>0</td>\n",
       "    </tr>\n",
       "    <tr>\n",
       "      <th>1</th>\n",
       "      <td>0</td>\n",
       "      <td>0</td>\n",
       "      <td>0</td>\n",
       "      <td>0</td>\n",
       "      <td>0</td>\n",
       "      <td>0</td>\n",
       "      <td>0</td>\n",
       "      <td>0</td>\n",
       "      <td>0</td>\n",
       "      <td>0</td>\n",
       "      <td>...</td>\n",
       "      <td>0</td>\n",
       "      <td>0</td>\n",
       "      <td>0</td>\n",
       "      <td>0</td>\n",
       "      <td>0</td>\n",
       "      <td>0</td>\n",
       "      <td>0</td>\n",
       "      <td>0</td>\n",
       "      <td>0</td>\n",
       "      <td>0</td>\n",
       "    </tr>\n",
       "    <tr>\n",
       "      <th>2</th>\n",
       "      <td>1</td>\n",
       "      <td>0</td>\n",
       "      <td>0</td>\n",
       "      <td>0</td>\n",
       "      <td>0</td>\n",
       "      <td>0</td>\n",
       "      <td>0</td>\n",
       "      <td>0</td>\n",
       "      <td>0</td>\n",
       "      <td>0</td>\n",
       "      <td>...</td>\n",
       "      <td>0</td>\n",
       "      <td>0</td>\n",
       "      <td>0</td>\n",
       "      <td>0</td>\n",
       "      <td>0</td>\n",
       "      <td>0</td>\n",
       "      <td>0</td>\n",
       "      <td>0</td>\n",
       "      <td>0</td>\n",
       "      <td>0</td>\n",
       "    </tr>\n",
       "    <tr>\n",
       "      <th>3</th>\n",
       "      <td>4</td>\n",
       "      <td>0</td>\n",
       "      <td>0</td>\n",
       "      <td>0</td>\n",
       "      <td>0</td>\n",
       "      <td>0</td>\n",
       "      <td>0</td>\n",
       "      <td>0</td>\n",
       "      <td>0</td>\n",
       "      <td>0</td>\n",
       "      <td>...</td>\n",
       "      <td>0</td>\n",
       "      <td>0</td>\n",
       "      <td>0</td>\n",
       "      <td>0</td>\n",
       "      <td>0</td>\n",
       "      <td>0</td>\n",
       "      <td>0</td>\n",
       "      <td>0</td>\n",
       "      <td>0</td>\n",
       "      <td>0</td>\n",
       "    </tr>\n",
       "    <tr>\n",
       "      <th>4</th>\n",
       "      <td>0</td>\n",
       "      <td>0</td>\n",
       "      <td>0</td>\n",
       "      <td>0</td>\n",
       "      <td>0</td>\n",
       "      <td>0</td>\n",
       "      <td>0</td>\n",
       "      <td>0</td>\n",
       "      <td>0</td>\n",
       "      <td>0</td>\n",
       "      <td>...</td>\n",
       "      <td>0</td>\n",
       "      <td>0</td>\n",
       "      <td>0</td>\n",
       "      <td>0</td>\n",
       "      <td>0</td>\n",
       "      <td>0</td>\n",
       "      <td>0</td>\n",
       "      <td>0</td>\n",
       "      <td>0</td>\n",
       "      <td>0</td>\n",
       "    </tr>\n",
       "  </tbody>\n",
       "</table>\n",
       "<p>5 rows × 785 columns</p>\n",
       "</div>\n",
       "      <button class=\"colab-df-convert\" onclick=\"convertToInteractive('df-7dae1efe-baa3-48fc-9d25-7086890c59dd')\"\n",
       "              title=\"Convert this dataframe to an interactive table.\"\n",
       "              style=\"display:none;\">\n",
       "        \n",
       "  <svg xmlns=\"http://www.w3.org/2000/svg\" height=\"24px\"viewBox=\"0 0 24 24\"\n",
       "       width=\"24px\">\n",
       "    <path d=\"M0 0h24v24H0V0z\" fill=\"none\"/>\n",
       "    <path d=\"M18.56 5.44l.94 2.06.94-2.06 2.06-.94-2.06-.94-.94-2.06-.94 2.06-2.06.94zm-11 1L8.5 8.5l.94-2.06 2.06-.94-2.06-.94L8.5 2.5l-.94 2.06-2.06.94zm10 10l.94 2.06.94-2.06 2.06-.94-2.06-.94-.94-2.06-.94 2.06-2.06.94z\"/><path d=\"M17.41 7.96l-1.37-1.37c-.4-.4-.92-.59-1.43-.59-.52 0-1.04.2-1.43.59L10.3 9.45l-7.72 7.72c-.78.78-.78 2.05 0 2.83L4 21.41c.39.39.9.59 1.41.59.51 0 1.02-.2 1.41-.59l7.78-7.78 2.81-2.81c.8-.78.8-2.07 0-2.86zM5.41 20L4 18.59l7.72-7.72 1.47 1.35L5.41 20z\"/>\n",
       "  </svg>\n",
       "      </button>\n",
       "      \n",
       "  <style>\n",
       "    .colab-df-container {\n",
       "      display:flex;\n",
       "      flex-wrap:wrap;\n",
       "      gap: 12px;\n",
       "    }\n",
       "\n",
       "    .colab-df-convert {\n",
       "      background-color: #E8F0FE;\n",
       "      border: none;\n",
       "      border-radius: 50%;\n",
       "      cursor: pointer;\n",
       "      display: none;\n",
       "      fill: #1967D2;\n",
       "      height: 32px;\n",
       "      padding: 0 0 0 0;\n",
       "      width: 32px;\n",
       "    }\n",
       "\n",
       "    .colab-df-convert:hover {\n",
       "      background-color: #E2EBFA;\n",
       "      box-shadow: 0px 1px 2px rgba(60, 64, 67, 0.3), 0px 1px 3px 1px rgba(60, 64, 67, 0.15);\n",
       "      fill: #174EA6;\n",
       "    }\n",
       "\n",
       "    [theme=dark] .colab-df-convert {\n",
       "      background-color: #3B4455;\n",
       "      fill: #D2E3FC;\n",
       "    }\n",
       "\n",
       "    [theme=dark] .colab-df-convert:hover {\n",
       "      background-color: #434B5C;\n",
       "      box-shadow: 0px 1px 3px 1px rgba(0, 0, 0, 0.15);\n",
       "      filter: drop-shadow(0px 1px 2px rgba(0, 0, 0, 0.3));\n",
       "      fill: #FFFFFF;\n",
       "    }\n",
       "  </style>\n",
       "\n",
       "      <script>\n",
       "        const buttonEl =\n",
       "          document.querySelector('#df-7dae1efe-baa3-48fc-9d25-7086890c59dd button.colab-df-convert');\n",
       "        buttonEl.style.display =\n",
       "          google.colab.kernel.accessAllowed ? 'block' : 'none';\n",
       "\n",
       "        async function convertToInteractive(key) {\n",
       "          const element = document.querySelector('#df-7dae1efe-baa3-48fc-9d25-7086890c59dd');\n",
       "          const dataTable =\n",
       "            await google.colab.kernel.invokeFunction('convertToInteractive',\n",
       "                                                     [key], {});\n",
       "          if (!dataTable) return;\n",
       "\n",
       "          const docLinkHtml = 'Like what you see? Visit the ' +\n",
       "            '<a target=\"_blank\" href=https://colab.research.google.com/notebooks/data_table.ipynb>data table notebook</a>'\n",
       "            + ' to learn more about interactive tables.';\n",
       "          element.innerHTML = '';\n",
       "          dataTable['output_type'] = 'display_data';\n",
       "          await google.colab.output.renderOutput(dataTable, element);\n",
       "          const docLink = document.createElement('div');\n",
       "          docLink.innerHTML = docLinkHtml;\n",
       "          element.appendChild(docLink);\n",
       "        }\n",
       "      </script>\n",
       "    </div>\n",
       "  </div>\n",
       "  "
      ],
      "text/plain": [
       "   label  pixel0  pixel1  pixel2  pixel3  pixel4  pixel5  pixel6  pixel7  \\\n",
       "0      1       0       0       0       0       0       0       0       0   \n",
       "1      0       0       0       0       0       0       0       0       0   \n",
       "2      1       0       0       0       0       0       0       0       0   \n",
       "3      4       0       0       0       0       0       0       0       0   \n",
       "4      0       0       0       0       0       0       0       0       0   \n",
       "\n",
       "   pixel8  ...  pixel774  pixel775  pixel776  pixel777  pixel778  pixel779  \\\n",
       "0       0  ...         0         0         0         0         0         0   \n",
       "1       0  ...         0         0         0         0         0         0   \n",
       "2       0  ...         0         0         0         0         0         0   \n",
       "3       0  ...         0         0         0         0         0         0   \n",
       "4       0  ...         0         0         0         0         0         0   \n",
       "\n",
       "   pixel780  pixel781  pixel782  pixel783  \n",
       "0         0         0         0         0  \n",
       "1         0         0         0         0  \n",
       "2         0         0         0         0  \n",
       "3         0         0         0         0  \n",
       "4         0         0         0         0  \n",
       "\n",
       "[5 rows x 785 columns]"
      ]
     },
     "execution_count": 4,
     "metadata": {},
     "output_type": "execute_result"
    }
   ],
   "source": [
    "train.head()"
   ]
  },
  {
   "cell_type": "code",
   "execution_count": 5,
   "metadata": {
    "colab": {
     "base_uri": "https://localhost:8080/",
     "height": 300
    },
    "id": "k-KZoi91hQTC",
    "outputId": "87e0f6a5-3123-4b1f-8b02-6b20cbe81a12"
   },
   "outputs": [
    {
     "data": {
      "text/html": [
       "\n",
       "  <div id=\"df-de8b153d-964e-4a85-8a00-ef38589f13b6\">\n",
       "    <div class=\"colab-df-container\">\n",
       "      <div>\n",
       "<style scoped>\n",
       "    .dataframe tbody tr th:only-of-type {\n",
       "        vertical-align: middle;\n",
       "    }\n",
       "\n",
       "    .dataframe tbody tr th {\n",
       "        vertical-align: top;\n",
       "    }\n",
       "\n",
       "    .dataframe thead th {\n",
       "        text-align: right;\n",
       "    }\n",
       "</style>\n",
       "<table border=\"1\" class=\"dataframe\">\n",
       "  <thead>\n",
       "    <tr style=\"text-align: right;\">\n",
       "      <th></th>\n",
       "      <th>pixel0</th>\n",
       "      <th>pixel1</th>\n",
       "      <th>pixel2</th>\n",
       "      <th>pixel3</th>\n",
       "      <th>pixel4</th>\n",
       "      <th>pixel5</th>\n",
       "      <th>pixel6</th>\n",
       "      <th>pixel7</th>\n",
       "      <th>pixel8</th>\n",
       "      <th>pixel9</th>\n",
       "      <th>...</th>\n",
       "      <th>pixel774</th>\n",
       "      <th>pixel775</th>\n",
       "      <th>pixel776</th>\n",
       "      <th>pixel777</th>\n",
       "      <th>pixel778</th>\n",
       "      <th>pixel779</th>\n",
       "      <th>pixel780</th>\n",
       "      <th>pixel781</th>\n",
       "      <th>pixel782</th>\n",
       "      <th>pixel783</th>\n",
       "    </tr>\n",
       "  </thead>\n",
       "  <tbody>\n",
       "    <tr>\n",
       "      <th>0</th>\n",
       "      <td>0</td>\n",
       "      <td>0</td>\n",
       "      <td>0</td>\n",
       "      <td>0</td>\n",
       "      <td>0</td>\n",
       "      <td>0</td>\n",
       "      <td>0</td>\n",
       "      <td>0</td>\n",
       "      <td>0</td>\n",
       "      <td>0</td>\n",
       "      <td>...</td>\n",
       "      <td>0</td>\n",
       "      <td>0</td>\n",
       "      <td>0</td>\n",
       "      <td>0</td>\n",
       "      <td>0</td>\n",
       "      <td>0</td>\n",
       "      <td>0</td>\n",
       "      <td>0</td>\n",
       "      <td>0</td>\n",
       "      <td>0</td>\n",
       "    </tr>\n",
       "    <tr>\n",
       "      <th>1</th>\n",
       "      <td>0</td>\n",
       "      <td>0</td>\n",
       "      <td>0</td>\n",
       "      <td>0</td>\n",
       "      <td>0</td>\n",
       "      <td>0</td>\n",
       "      <td>0</td>\n",
       "      <td>0</td>\n",
       "      <td>0</td>\n",
       "      <td>0</td>\n",
       "      <td>...</td>\n",
       "      <td>0</td>\n",
       "      <td>0</td>\n",
       "      <td>0</td>\n",
       "      <td>0</td>\n",
       "      <td>0</td>\n",
       "      <td>0</td>\n",
       "      <td>0</td>\n",
       "      <td>0</td>\n",
       "      <td>0</td>\n",
       "      <td>0</td>\n",
       "    </tr>\n",
       "    <tr>\n",
       "      <th>2</th>\n",
       "      <td>0</td>\n",
       "      <td>0</td>\n",
       "      <td>0</td>\n",
       "      <td>0</td>\n",
       "      <td>0</td>\n",
       "      <td>0</td>\n",
       "      <td>0</td>\n",
       "      <td>0</td>\n",
       "      <td>0</td>\n",
       "      <td>0</td>\n",
       "      <td>...</td>\n",
       "      <td>0</td>\n",
       "      <td>0</td>\n",
       "      <td>0</td>\n",
       "      <td>0</td>\n",
       "      <td>0</td>\n",
       "      <td>0</td>\n",
       "      <td>0</td>\n",
       "      <td>0</td>\n",
       "      <td>0</td>\n",
       "      <td>0</td>\n",
       "    </tr>\n",
       "    <tr>\n",
       "      <th>3</th>\n",
       "      <td>0</td>\n",
       "      <td>0</td>\n",
       "      <td>0</td>\n",
       "      <td>0</td>\n",
       "      <td>0</td>\n",
       "      <td>0</td>\n",
       "      <td>0</td>\n",
       "      <td>0</td>\n",
       "      <td>0</td>\n",
       "      <td>0</td>\n",
       "      <td>...</td>\n",
       "      <td>0</td>\n",
       "      <td>0</td>\n",
       "      <td>0</td>\n",
       "      <td>0</td>\n",
       "      <td>0</td>\n",
       "      <td>0</td>\n",
       "      <td>0</td>\n",
       "      <td>0</td>\n",
       "      <td>0</td>\n",
       "      <td>0</td>\n",
       "    </tr>\n",
       "    <tr>\n",
       "      <th>4</th>\n",
       "      <td>0</td>\n",
       "      <td>0</td>\n",
       "      <td>0</td>\n",
       "      <td>0</td>\n",
       "      <td>0</td>\n",
       "      <td>0</td>\n",
       "      <td>0</td>\n",
       "      <td>0</td>\n",
       "      <td>0</td>\n",
       "      <td>0</td>\n",
       "      <td>...</td>\n",
       "      <td>0</td>\n",
       "      <td>0</td>\n",
       "      <td>0</td>\n",
       "      <td>0</td>\n",
       "      <td>0</td>\n",
       "      <td>0</td>\n",
       "      <td>0</td>\n",
       "      <td>0</td>\n",
       "      <td>0</td>\n",
       "      <td>0</td>\n",
       "    </tr>\n",
       "  </tbody>\n",
       "</table>\n",
       "<p>5 rows × 784 columns</p>\n",
       "</div>\n",
       "      <button class=\"colab-df-convert\" onclick=\"convertToInteractive('df-de8b153d-964e-4a85-8a00-ef38589f13b6')\"\n",
       "              title=\"Convert this dataframe to an interactive table.\"\n",
       "              style=\"display:none;\">\n",
       "        \n",
       "  <svg xmlns=\"http://www.w3.org/2000/svg\" height=\"24px\"viewBox=\"0 0 24 24\"\n",
       "       width=\"24px\">\n",
       "    <path d=\"M0 0h24v24H0V0z\" fill=\"none\"/>\n",
       "    <path d=\"M18.56 5.44l.94 2.06.94-2.06 2.06-.94-2.06-.94-.94-2.06-.94 2.06-2.06.94zm-11 1L8.5 8.5l.94-2.06 2.06-.94-2.06-.94L8.5 2.5l-.94 2.06-2.06.94zm10 10l.94 2.06.94-2.06 2.06-.94-2.06-.94-.94-2.06-.94 2.06-2.06.94z\"/><path d=\"M17.41 7.96l-1.37-1.37c-.4-.4-.92-.59-1.43-.59-.52 0-1.04.2-1.43.59L10.3 9.45l-7.72 7.72c-.78.78-.78 2.05 0 2.83L4 21.41c.39.39.9.59 1.41.59.51 0 1.02-.2 1.41-.59l7.78-7.78 2.81-2.81c.8-.78.8-2.07 0-2.86zM5.41 20L4 18.59l7.72-7.72 1.47 1.35L5.41 20z\"/>\n",
       "  </svg>\n",
       "      </button>\n",
       "      \n",
       "  <style>\n",
       "    .colab-df-container {\n",
       "      display:flex;\n",
       "      flex-wrap:wrap;\n",
       "      gap: 12px;\n",
       "    }\n",
       "\n",
       "    .colab-df-convert {\n",
       "      background-color: #E8F0FE;\n",
       "      border: none;\n",
       "      border-radius: 50%;\n",
       "      cursor: pointer;\n",
       "      display: none;\n",
       "      fill: #1967D2;\n",
       "      height: 32px;\n",
       "      padding: 0 0 0 0;\n",
       "      width: 32px;\n",
       "    }\n",
       "\n",
       "    .colab-df-convert:hover {\n",
       "      background-color: #E2EBFA;\n",
       "      box-shadow: 0px 1px 2px rgba(60, 64, 67, 0.3), 0px 1px 3px 1px rgba(60, 64, 67, 0.15);\n",
       "      fill: #174EA6;\n",
       "    }\n",
       "\n",
       "    [theme=dark] .colab-df-convert {\n",
       "      background-color: #3B4455;\n",
       "      fill: #D2E3FC;\n",
       "    }\n",
       "\n",
       "    [theme=dark] .colab-df-convert:hover {\n",
       "      background-color: #434B5C;\n",
       "      box-shadow: 0px 1px 3px 1px rgba(0, 0, 0, 0.15);\n",
       "      filter: drop-shadow(0px 1px 2px rgba(0, 0, 0, 0.3));\n",
       "      fill: #FFFFFF;\n",
       "    }\n",
       "  </style>\n",
       "\n",
       "      <script>\n",
       "        const buttonEl =\n",
       "          document.querySelector('#df-de8b153d-964e-4a85-8a00-ef38589f13b6 button.colab-df-convert');\n",
       "        buttonEl.style.display =\n",
       "          google.colab.kernel.accessAllowed ? 'block' : 'none';\n",
       "\n",
       "        async function convertToInteractive(key) {\n",
       "          const element = document.querySelector('#df-de8b153d-964e-4a85-8a00-ef38589f13b6');\n",
       "          const dataTable =\n",
       "            await google.colab.kernel.invokeFunction('convertToInteractive',\n",
       "                                                     [key], {});\n",
       "          if (!dataTable) return;\n",
       "\n",
       "          const docLinkHtml = 'Like what you see? Visit the ' +\n",
       "            '<a target=\"_blank\" href=https://colab.research.google.com/notebooks/data_table.ipynb>data table notebook</a>'\n",
       "            + ' to learn more about interactive tables.';\n",
       "          element.innerHTML = '';\n",
       "          dataTable['output_type'] = 'display_data';\n",
       "          await google.colab.output.renderOutput(dataTable, element);\n",
       "          const docLink = document.createElement('div');\n",
       "          docLink.innerHTML = docLinkHtml;\n",
       "          element.appendChild(docLink);\n",
       "        }\n",
       "      </script>\n",
       "    </div>\n",
       "  </div>\n",
       "  "
      ],
      "text/plain": [
       "   pixel0  pixel1  pixel2  pixel3  pixel4  pixel5  pixel6  pixel7  pixel8  \\\n",
       "0       0       0       0       0       0       0       0       0       0   \n",
       "1       0       0       0       0       0       0       0       0       0   \n",
       "2       0       0       0       0       0       0       0       0       0   \n",
       "3       0       0       0       0       0       0       0       0       0   \n",
       "4       0       0       0       0       0       0       0       0       0   \n",
       "\n",
       "   pixel9  ...  pixel774  pixel775  pixel776  pixel777  pixel778  pixel779  \\\n",
       "0       0  ...         0         0         0         0         0         0   \n",
       "1       0  ...         0         0         0         0         0         0   \n",
       "2       0  ...         0         0         0         0         0         0   \n",
       "3       0  ...         0         0         0         0         0         0   \n",
       "4       0  ...         0         0         0         0         0         0   \n",
       "\n",
       "   pixel780  pixel781  pixel782  pixel783  \n",
       "0         0         0         0         0  \n",
       "1         0         0         0         0  \n",
       "2         0         0         0         0  \n",
       "3         0         0         0         0  \n",
       "4         0         0         0         0  \n",
       "\n",
       "[5 rows x 784 columns]"
      ]
     },
     "execution_count": 5,
     "metadata": {},
     "output_type": "execute_result"
    }
   ],
   "source": [
    "test.head()"
   ]
  },
  {
   "cell_type": "code",
   "execution_count": 6,
   "metadata": {
    "colab": {
     "base_uri": "https://localhost:8080/"
    },
    "id": "5FT4uuTvhQm7",
    "outputId": "39eb8b67-770d-4110-8c7e-70960cee4aa1"
   },
   "outputs": [
    {
     "name": "stdout",
     "output_type": "stream",
     "text": [
      "0\n",
      "0\n"
     ]
    }
   ],
   "source": [
    "print(train.isna().sum().sum())\n",
    "print(test.isna().sum().sum())"
   ]
  },
  {
   "cell_type": "code",
   "execution_count": 7,
   "metadata": {
    "colab": {
     "base_uri": "https://localhost:8080/",
     "height": 468
    },
    "id": "KOBQwz_8hSmX",
    "outputId": "c66f4377-75c4-40ad-b40c-8d42103b3315"
   },
   "outputs": [
    {
     "data": {
      "image/png": "[encoded data removed]",
      "text/plain": [
       "<Figure size 800x500 with 1 Axes>"
      ]
     },
     "metadata": {},
     "output_type": "display_data"
    }
   ],
   "source": [
    "plt.figure(figsize=(8, 5))\n",
    "sns.countplot(train['label'], palette='Dark2')\n",
    "plt.title('Train labels count')\n",
    "plt.show()"
   ]
  },
  {
   "cell_type": "code",
   "execution_count": 8,
   "metadata": {
    "colab": {
     "base_uri": "https://localhost:8080/"
    },
    "id": "Fv-j7SjEhUs-",
    "outputId": "7c197209-c058-48af-f1aa-c2b62402b3d6"
   },
   "outputs": [
    {
     "data": {
      "text/plain": [
       "0    4132\n",
       "1    4684\n",
       "2    4177\n",
       "3    4351\n",
       "4    4072\n",
       "5    3795\n",
       "6    4137\n",
       "7    4401\n",
       "8    4063\n",
       "9    4188\n",
       "Name: label, dtype: int64"
      ]
     },
     "execution_count": 8,
     "metadata": {},
     "output_type": "execute_result"
    }
   ],
   "source": [
    "train['label'].value_counts().sort_index()"
   ]
  },
  {
   "cell_type": "code",
   "execution_count": 9,
   "metadata": {
    "colab": {
     "base_uri": "https://localhost:8080/",
     "height": 691
    },
    "id": "kDvHGI9thWq_",
    "outputId": "c7db3a2f-cf3d-4c97-ac71-5461cd00d421"
   },
   "outputs": [
    {
     "name": "stderr",
     "output_type": "stream",
     "text": [
      "<ipython-input-9-a521cfdbdeee>:3: MatplotlibDeprecationWarning: Auto-removal of overlapping axes is deprecated since 3.6 and will be removed two minor releases later; explicitly call ax.remove() as needed.\n",
      "  plt.subplot(2, 4, ind+1)\n"
     ]
    },
    {
     "data": {
      "image/png": "[encoded data removed]",
      "text/plain": [
       "<Figure size 1800x800 with 8 Axes>"
      ]
     },
     "metadata": {},
     "output_type": "display_data"
    }
   ],
   "source": [
    "fig, ax = plt.subplots(figsize=(18, 8))\n",
    "for ind, row in train.iloc[:8, :].iterrows():\n",
    "    plt.subplot(2, 4, ind+1)\n",
    "    plt.title(row[0])\n",
    "    img = row.to_numpy()[1:].reshape(28, 28)\n",
    "    fig.suptitle('Train images', fontsize=24)\n",
    "    plt.axis('off')\n",
    "    plt.imshow(img, cmap='magma')\n"
   ]
  },
  {
   "cell_type": "code",
   "execution_count": 10,
   "metadata": {
    "colab": {
     "base_uri": "https://localhost:8080/",
     "height": 691
    },
    "id": "fBZUNOvchbVF",
    "outputId": "0d7099eb-f21b-44b7-d446-840224b4f907"
   },
   "outputs": [
    {
     "name": "stderr",
     "output_type": "stream",
     "text": [
      "<ipython-input-10-361d746d14e1>:4: MatplotlibDeprecationWarning: Auto-removal of overlapping axes is deprecated since 3.6 and will be removed two minor releases later; explicitly call ax.remove() as needed.\n",
      "  plt.subplot(2, 4, ind+1)\n"
     ]
    },
    {
     "data": {
      "image/png": "[encoded data removed]",
      "text/plain": [
       "<Figure size 1800x800 with 8 Axes>"
      ]
     },
     "metadata": {},
     "output_type": "display_data"
    }
   ],
   "source": [
    "# first few test images\n",
    "fig, ax = plt.subplots(figsize=(18, 8))\n",
    "for ind, row in test.iloc[:8, :].iterrows():\n",
    "    plt.subplot(2, 4, ind+1)\n",
    "    img = row.to_numpy()[:].reshape(28, 28)\n",
    "    fig.suptitle('Test images', fontsize=24)\n",
    "    plt.axis('off')\n",
    "    plt.imshow(img, cmap='magma')"
   ]
  },
  {
   "cell_type": "code",
   "execution_count": 11,
   "metadata": {
    "colab": {
     "base_uri": "https://localhost:8080/"
    },
    "id": "N9qkOgXbhd1G",
    "outputId": "a8876d10-c3d9-4d26-f727-a39bae9eea8a"
   },
   "outputs": [
    {
     "name": "stdout",
     "output_type": "stream",
     "text": [
      "(42000, 784)\n",
      "(42000,)\n",
      "(28000, 784)\n"
     ]
    }
   ],
   "source": [
    "X = train.iloc[:, 1:].to_numpy()\n",
    "y = train['label'].to_numpy()\n",
    "\n",
    "# test dataset\n",
    "test = test.loc[:, :].to_numpy()\n",
    "\n",
    "for i in [X, y, test]:\n",
    "    print(i.shape)"
   ]
  },
  {
   "cell_type": "code",
   "execution_count": 12,
   "metadata": {
    "id": "-SYcd2TEhfu7"
   },
   "outputs": [],
   "source": [
    "X = X / 255.0\n",
    "test = test / 255.0"
   ]
  },
  {
   "cell_type": "code",
   "execution_count": 13,
   "metadata": {
    "colab": {
     "base_uri": "https://localhost:8080/"
    },
    "id": "kLa5npPNhhw4",
    "outputId": "d8def524-de34-4bb4-8b2e-058b0ff2bdb3"
   },
   "outputs": [
    {
     "name": "stdout",
     "output_type": "stream",
     "text": [
      "(42000, 784)\n",
      "(28000, 784)\n",
      "(42000, 28, 28, 1)\n",
      "(28000, 28, 28, 1)\n"
     ]
    }
   ],
   "source": [
    "print(X.shape)\n",
    "print(test.shape)\n",
    "\n",
    "# reshape the dataframe to 3x3 matrix with 1 channel grey scale values\n",
    "X = X.reshape(-1,28,28,1)\n",
    "test = test.reshape(-1,28,28,1)\n",
    "# shape of training and test dataset\n",
    "print(X.shape)\n",
    "print(test.shape)"
   ]
  },
  {
   "cell_type": "code",
   "execution_count": 14,
   "metadata": {
    "colab": {
     "base_uri": "https://localhost:8080/"
    },
    "id": "Q_oMRX31hjvu",
    "outputId": "d48f6c02-dc44-49cf-e4e1-a988972bdd2e"
   },
   "outputs": [
    {
     "name": "stdout",
     "output_type": "stream",
     "text": [
      "(42000,)\n",
      "1\n",
      "(42000, 10)\n",
      "[0. 1. 0. 0. 0. 0. 0. 0. 0. 0.]\n"
     ]
    }
   ],
   "source": [
    "print(y.shape)\n",
    "print(y[0])\n",
    "# convert Y_train to categorical by one-hot-encoding\n",
    "y_enc = to_categorical(y, num_classes = 10)\n",
    "# shape and values of target\n",
    "print(y_enc.shape)\n",
    "print(y_enc[0])"
   ]
  },
  {
   "cell_type": "code",
   "execution_count": 15,
   "metadata": {
    "colab": {
     "base_uri": "https://localhost:8080/"
    },
    "id": "QJ6-VD9dhlsd",
    "outputId": "e34783e2-998c-41f5-b2f7-8f3b3817e688"
   },
   "outputs": [
    {
     "name": "stdout",
     "output_type": "stream",
     "text": [
      "(29400, 28, 28, 1)\n",
      "(29400, 10)\n",
      "(12600, 28, 28, 1)\n",
      "(12600, 10)\n"
     ]
    }
   ],
   "source": [
    "random_seed = 2\n",
    "X_train, X_val, y_train_enc, y_val_enc = train_test_split(X, y_enc, test_size=0.3)\n",
    "for i in [X_train, y_train_enc, X_val, y_val_enc]:\n",
    "    print(i.shape)"
   ]
  },
  {
   "cell_type": "code",
   "execution_count": 16,
   "metadata": {
    "colab": {
     "base_uri": "https://localhost:8080/",
     "height": 447
    },
    "id": "Z5wAUI26hn4s",
    "outputId": "9059b734-3f95-4ffc-83e4-61fab7ce76ac"
   },
   "outputs": [
    {
     "name": "stdout",
     "output_type": "stream",
     "text": [
      "[0. 0. 0. 0. 0. 0. 0. 0. 1. 0.]\n"
     ]
    },
    {
     "data": {
      "image/png": "[encoded data removed]",
      "text/plain": [
       "<Figure size 640x480 with 1 Axes>"
      ]
     },
     "metadata": {},
     "output_type": "display_data"
    }
   ],
   "source": [
    "g = plt.imshow(X_train[0][:,:,0])\n",
    "print(y_train_enc[0])"
   ]
  },
  {
   "cell_type": "code",
   "execution_count": 17,
   "metadata": {
    "colab": {
     "base_uri": "https://localhost:8080/",
     "height": 447
    },
    "id": "7XCy3atthqrl",
    "outputId": "6e7f006d-8341-4b14-c365-21fb3cb57f24"
   },
   "outputs": [
    {
     "name": "stdout",
     "output_type": "stream",
     "text": [
      "[1. 0. 0. 0. 0. 0. 0. 0. 0. 0.]\n"
     ]
    },
    {
     "data": {
      "image/png": "[encoded data removed]",
      "text/plain": [
       "<Figure size 640x480 with 1 Axes>"
      ]
     },
     "metadata": {},
     "output_type": "display_data"
    }
   ],
   "source": [
    "g = plt.imshow(X_train[9][:,:,0])\n",
    "print(y_train_enc[9])"
   ]
  },
  {
   "cell_type": "markdown",
   "metadata": {
    "id": "-BPmEibkmzz8"
   },
   "source": [
    "# CNN"
   ]
  },
  {
   "cell_type": "markdown",
   "metadata": {
    "id": "Hvgerwtmmzz8"
   },
   "source": [
    "\n",
    "* INPUT_SHAPE = (28,28,1): Specifies the shape of input data for a neural network, where 28x28 is the size of the input image and 1 represents a single channel (grayscale).\n",
    "* OUTPUT_SHAPE = 10: Defines the number of output units in the final layer of a neural network, typically corresponding to the number of classes or categories in a classification problem.\n",
    "* BATCH_SIZE = 128: Determines the number of samples that will be propagated through the network at a time during training, affecting memory usage and computational efficiency.\n",
    "* EPOCHS = 10: Represents the number of times the entire dataset will be passed through the network during training, impacting the number of learning iterations.\n",
    "* VERBOSE = 2: Specifies the level of information displayed during training, where 0 indicates no output, 1 displays a progress bar, and 2 provides detailed logging of each epoch."
   ]
  },
  {
   "cell_type": "code",
   "execution_count": 18,
   "metadata": {
    "id": "nm9rESdmhtEU"
   },
   "outputs": [],
   "source": [
    "INPUT_SHAPE = (28,28,1)\n",
    "OUTPUT_SHAPE = 10\n",
    "BATCH_SIZE = 128\n",
    "EPOCHS = 10\n",
    "VERBOSE = 2"
   ]
  },
  {
   "cell_type": "markdown",
   "metadata": {
    "id": "VoHIXf1Hmzz9"
   },
   "source": [
    "## What is MaxPool?\n",
    "It helps in capturing the most important features while discarding redundant information, improving the network's ability to generalize and extract relevant patterns from the input data."
   ]
  },
  {
   "cell_type": "markdown",
   "metadata": {
    "id": "LReMbAQSmzz9"
   },
   "source": [
    "<img src=\"7.png\" alt=\"Image Description\" width =\"500\">"
   ]
  },
  {
   "cell_type": "markdown",
   "metadata": {
    "id": "nReqox9amzz9"
   },
   "source": [
    "## What is Activation Function?\n",
    "An activation function is a mathematical function applied to the output of a neuron or a layer in a neural network. It introduces non-linearity to the network, allowing it to learn and model complex relationships in the data."
   ]
  },
  {
   "cell_type": "markdown",
   "metadata": {
    "id": "24sPjk1pmzz9"
   },
   "source": [
    "## What is Dropout?\n",
    "Dropout is a regularization technique used in neural networks to prevent overfitting and improve generalization. It involves randomly dropping out (setting to zero) a certain proportion of neurons or connections during training, effectively making the network more robust and less reliant on specific neurons."
   ]
  },
  {
   "cell_type": "markdown",
   "metadata": {
    "id": "DBQaEcaSmzz9"
   },
   "source": [
    "## What is Optimizer?\n",
    "Optimizers play a crucial role in the training of neural networks as they determine how the network's parameters are updated based on the computed gradients of the loss function with respect to those parameters. By iteratively updating the parameters using the gradients, optimizers guide the network towards finding the optimal set of parameters that minimize the loss and improve the network's performance."
   ]
  },
  {
   "cell_type": "code",
   "execution_count": 19,
   "metadata": {
    "id": "PPbzRwUshve3"
   },
   "outputs": [],
   "source": [
    "model = Sequential()\n",
    "model.add(Conv2D(32, kernel_size=(3,3), activation='relu', input_shape=INPUT_SHAPE))\n",
    "model.add(MaxPool2D((2,2)))\n",
    "model.add(Conv2D(64, kernel_size=(3,3), activation='relu'))\n",
    "model.add(MaxPool2D((2,2)))\n",
    "model.add(Flatten())\n",
    "model.add(Dense(128, activation='relu'))\n",
    "model.add(Dropout(0.2))\n",
    "model.add(Dense(64, activation='relu'))\n",
    "model.add(Dropout(0.2))\n",
    "model.add(Dense(10, activation='softmax'))"
   ]
  },
  {
   "cell_type": "code",
   "execution_count": 20,
   "metadata": {
    "id": "Xm8-GgZqhx6S"
   },
   "outputs": [],
   "source": [
    "model.compile(optimizer='adam',\n",
    "              loss='categorical_crossentropy',\n",
    "              metrics=['accuracy'])"
   ]
  },
  {
   "cell_type": "code",
   "execution_count": 21,
   "metadata": {
    "colab": {
     "base_uri": "https://localhost:8080/"
    },
    "id": "4JexrFithyYc",
    "outputId": "4a6ec855-0cb2-4879-ca83-e7017b403b1b"
   },
   "outputs": [
    {
     "name": "stdout",
     "output_type": "stream",
     "text": [
      "Model: \"sequential\"\n",
      "_________________________________________________________________\n",
      " Layer (type)                Output Shape              Param #   \n",
      "=================================================================\n",
      " conv2d (Conv2D)             (None, 26, 26, 32)        320       \n",
      "                                                                 \n",
      " max_pooling2d (MaxPooling2D  (None, 13, 13, 32)       0         \n",
      " )                                                               \n",
      "                                                                 \n",
      " conv2d_1 (Conv2D)           (None, 11, 11, 64)        18496     \n",
      "                                                                 \n",
      " max_pooling2d_1 (MaxPooling  (None, 5, 5, 64)         0         \n",
      " 2D)                                                             \n",
      "                                                                 \n",
      " flatten (Flatten)           (None, 1600)              0         \n",
      "                                                                 \n",
      " dense (Dense)               (None, 128)               204928    \n",
      "                                                                 \n",
      " dropout (Dropout)           (None, 128)               0         \n",
      "                                                                 \n",
      " dense_1 (Dense)             (None, 64)                8256      \n",
      "                                                                 \n",
      " dropout_1 (Dropout)         (None, 64)                0         \n",
      "                                                                 \n",
      " dense_2 (Dense)             (None, 10)                650       \n",
      "                                                                 \n",
      "=================================================================\n",
      "Total params: 232,650\n",
      "Trainable params: 232,650\n",
      "Non-trainable params: 0\n",
      "_________________________________________________________________\n"
     ]
    }
   ],
   "source": [
    "model.summary()"
   ]
  },
  {
   "cell_type": "code",
   "execution_count": 22,
   "metadata": {
    "colab": {
     "base_uri": "https://localhost:8080/"
    },
    "id": "l2nc_vHNh0OX",
    "outputId": "a5f28cbf-9ec4-413f-f12d-f0cea1c3b8e2"
   },
   "outputs": [
    {
     "name": "stdout",
     "output_type": "stream",
     "text": [
      "Epoch 1/10\n",
      "161/161 - 29s - loss: 0.5605 - accuracy: 0.8240 - val_loss: 0.1291 - val_accuracy: 0.9599 - 29s/epoch - 178ms/step\n",
      "Epoch 2/10\n",
      "161/161 - 22s - loss: 0.1461 - accuracy: 0.9566 - val_loss: 0.0815 - val_accuracy: 0.9746 - 22s/epoch - 135ms/step\n",
      "Epoch 3/10\n",
      "161/161 - 20s - loss: 0.1057 - accuracy: 0.9681 - val_loss: 0.0699 - val_accuracy: 0.9776 - 20s/epoch - 124ms/step\n",
      "Epoch 4/10\n",
      "161/161 - 20s - loss: 0.0809 - accuracy: 0.9758 - val_loss: 0.0616 - val_accuracy: 0.9804 - 20s/epoch - 122ms/step\n",
      "Epoch 5/10\n",
      "161/161 - 22s - loss: 0.0605 - accuracy: 0.9815 - val_loss: 0.0548 - val_accuracy: 0.9833 - 22s/epoch - 137ms/step\n",
      "Epoch 6/10\n",
      "161/161 - 20s - loss: 0.0533 - accuracy: 0.9845 - val_loss: 0.0527 - val_accuracy: 0.9849 - 20s/epoch - 124ms/step\n",
      "Epoch 7/10\n",
      "161/161 - 21s - loss: 0.0461 - accuracy: 0.9855 - val_loss: 0.0521 - val_accuracy: 0.9844 - 21s/epoch - 129ms/step\n",
      "Epoch 8/10\n",
      "161/161 - 21s - loss: 0.0377 - accuracy: 0.9877 - val_loss: 0.0558 - val_accuracy: 0.9846 - 21s/epoch - 127ms/step\n",
      "Epoch 9/10\n",
      "161/161 - 20s - loss: 0.0350 - accuracy: 0.9887 - val_loss: 0.0498 - val_accuracy: 0.9864 - 20s/epoch - 125ms/step\n",
      "Epoch 10/10\n",
      "161/161 - 21s - loss: 0.0245 - accuracy: 0.9924 - val_loss: 0.0454 - val_accuracy: 0.9885 - 21s/epoch - 132ms/step\n"
     ]
    }
   ],
   "source": [
    "history = model.fit(X_train, y_train_enc,\n",
    "                    epochs=EPOCHS,\n",
    "                    batch_size=BATCH_SIZE,\n",
    "                    verbose=VERBOSE,\n",
    "                    validation_split=0.3)"
   ]
  },
  {
   "cell_type": "code",
   "execution_count": 23,
   "metadata": {
    "colab": {
     "base_uri": "https://localhost:8080/",
     "height": 468
    },
    "id": "ev6e8XnAh2E1",
    "outputId": "443762aa-1f24-496d-c9be-053c37d51ef5"
   },
   "outputs": [
    {
     "data": {
      "image/png": "[encoded data removed]",
      "text/plain": [
       "<Figure size 1400x500 with 2 Axes>"
      ]
     },
     "metadata": {},
     "output_type": "display_data"
    }
   ],
   "source": [
    "plt.figure(figsize=(14, 5))\n",
    "\n",
    "plt.subplot(1, 2, 1)\n",
    "plt.plot(history.history['accuracy'], label='Training Accuracy')\n",
    "plt.plot(history.history['val_accuracy'], label='Validation Accuracy')\n",
    "plt.legend(loc='lower right')\n",
    "plt.title('Training and Validation Accuracy')\n",
    "\n",
    "plt.subplot(1, 2, 2)\n",
    "plt.plot(history.history['loss'], label='Training Loss')\n",
    "plt.plot(history.history['val_loss'], label='Validation Loss')\n",
    "plt.legend(loc='upper right')\n",
    "plt.title('Training and Validation Loss')\n",
    "\n",
    "plt.savefig('./foo.png')\n",
    "plt.show()"
   ]
  },
  {
   "cell_type": "code",
   "execution_count": 24,
   "metadata": {
    "colab": {
     "base_uri": "https://localhost:8080/"
    },
    "id": "soc9C7-Eh2Nh",
    "outputId": "9108fd7a-1b26-4d84-fb04-13b159430414"
   },
   "outputs": [
    {
     "data": {
      "text/plain": [
       "[0.04525553062558174, 0.98801589012146]"
      ]
     },
     "execution_count": 24,
     "metadata": {},
     "output_type": "execute_result"
    }
   ],
   "source": [
    "model.evaluate(X_val, y_val_enc, verbose=False)"
   ]
  },
  {
   "cell_type": "code",
   "execution_count": 25,
   "metadata": {
    "colab": {
     "base_uri": "https://localhost:8080/"
    },
    "id": "zch7Yr93h-iY",
    "outputId": "33498319-4b2e-4a9f-8afc-478fd01b59d5"
   },
   "outputs": [
    {
     "name": "stdout",
     "output_type": "stream",
     "text": [
      "394/394 [==============================] - 4s 9ms/step\n",
      "[1.4977370e-11 8.2608700e-08 9.9999982e-01 8.4423701e-10 1.8371730e-12\n",
      " 2.8667556e-14 4.9856941e-12 7.7968522e-08 9.7751818e-10 2.0069832e-14]\n",
      "2\n"
     ]
    }
   ],
   "source": [
    "y_pred_enc = model.predict(X_val)\n",
    "\n",
    "# actual\n",
    "y_act = [np.argmax(i) for i in y_val_enc]\n",
    "\n",
    "# decoding predicted values\n",
    "y_pred = [np.argmax(i) for i in y_pred_enc]\n",
    "\n",
    "print(y_pred_enc[0])\n",
    "print(y_pred[0])"
   ]
  },
  {
   "cell_type": "code",
   "execution_count": 26,
   "metadata": {
    "colab": {
     "base_uri": "https://localhost:8080/"
    },
    "id": "XE-51BauiATr",
    "outputId": "b0906d8a-48d9-4d23-b7bf-bc539c57e8c4"
   },
   "outputs": [
    {
     "name": "stdout",
     "output_type": "stream",
     "text": [
      "              precision    recall  f1-score   support\n",
      "\n",
      "           0       1.00      0.99      0.99      1247\n",
      "           1       0.99      0.99      0.99      1420\n",
      "           2       0.98      0.99      0.98      1269\n",
      "           3       0.99      0.99      0.99      1317\n",
      "           4       0.99      0.99      0.99      1263\n",
      "           5       0.99      0.98      0.99      1145\n",
      "           6       0.99      0.99      0.99      1204\n",
      "           7       0.99      0.99      0.99      1291\n",
      "           8       0.98      0.98      0.98      1221\n",
      "           9       0.98      0.99      0.98      1223\n",
      "\n",
      "    accuracy                           0.99     12600\n",
      "   macro avg       0.99      0.99      0.99     12600\n",
      "weighted avg       0.99      0.99      0.99     12600\n",
      "\n"
     ]
    }
   ],
   "source": [
    "print(classification_report(y_act, y_pred))"
   ]
  },
  {
   "cell_type": "code",
   "execution_count": 27,
   "metadata": {
    "colab": {
     "base_uri": "https://localhost:8080/",
     "height": 643
    },
    "id": "vdQ32-gwiCQi",
    "outputId": "59795bcb-1891-4efe-a7ea-5dde1cb002e0"
   },
   "outputs": [
    {
     "data": {
      "image/png": "[encoded data removed]",
      "text/plain": [
       "<Figure size 700x700 with 1 Axes>"
      ]
     },
     "metadata": {},
     "output_type": "display_data"
    }
   ],
   "source": [
    "fig, ax = plt.subplots(figsize=(7, 7))\n",
    "sns.heatmap(confusion_matrix(y_act, y_pred), annot=True,\n",
    "            cbar=False, fmt='1d', cmap='Blues', ax=ax)\n",
    "ax.set_title('Confusion Matrix', loc='left', fontsize=16)\n",
    "ax.set_xlabel('Predicted')\n",
    "ax.set_ylabel('Actual')\n",
    "plt.show()"
   ]
  },
  {
   "cell_type": "code",
   "execution_count": 28,
   "metadata": {
    "colab": {
     "base_uri": "https://localhost:8080/"
    },
    "id": "ps4KcUIQiFM4",
    "outputId": "6ddaff9d-baf7-477f-de57-a76b67bd02e7"
   },
   "outputs": [
    {
     "name": "stdout",
     "output_type": "stream",
     "text": [
      "875/875 [==============================] - 10s 11ms/step\n",
      "[5.3720335e-09 1.2986699e-08 9.9999970e-01 8.3795513e-09 6.8262190e-10\n",
      " 1.4272601e-11 2.5762572e-09 9.6941065e-08 6.7365526e-08 1.2022500e-10]\n",
      "2\n"
     ]
    }
   ],
   "source": [
    "# predicted values\n",
    "y_pred_enc = model.predict(test)\n",
    "\n",
    "# decoding predicted values\n",
    "y_pred = [np.argmax(i) for i in y_pred_enc]\n",
    "\n",
    "print(y_pred_enc[0])\n",
    "print(y_pred[0])"
   ]
  },
  {
   "cell_type": "code",
   "execution_count": 29,
   "metadata": {
    "colab": {
     "base_uri": "https://localhost:8080/",
     "height": 963
    },
    "id": "sSBFRdumiG5j",
    "outputId": "ff9970d8-f43b-489c-daab-416272adc42d",
    "scrolled": true
   },
   "outputs": [
    {
     "name": "stderr",
     "output_type": "stream",
     "text": [
      "<ipython-input-29-b5c856add253>:3: MatplotlibDeprecationWarning: Auto-removal of overlapping axes is deprecated since 3.6 and will be removed two minor releases later; explicitly call ax.remove() as needed.\n",
      "  plt.subplot(3, 5, ind+1)\n"
     ]
    },
    {
     "data": {
      "image/png": "[encoded data removed]",
      "text/plain": [
       "<Figure size 1800x1200 with 15 Axes>"
      ]
     },
     "metadata": {},
     "output_type": "display_data"
    }
   ],
   "source": [
    "fig, ax = plt.subplots(figsize=(18, 12))\n",
    "for ind, row in enumerate(test[:15]):\n",
    "    plt.subplot(3, 5, ind+1)\n",
    "    plt.title(y_pred[ind])\n",
    "    img = row.reshape(28, 28)\n",
    "    fig.suptitle('Predicted values', fontsize=24)\n",
    "    plt.axis('off')\n",
    "    plt.imshow(img, cmap='cividis')"
   ]
  },
  {
   "cell_type": "markdown",
   "metadata": {},
   "source": [
    "## Saving Model"
   ]
  },
  {
   "cell_type": "code",
   "execution_count": 30,
   "metadata": {
    "id": "Ba7hKtJGie6L"
   },
   "outputs": [],
   "source": [
    "model.save('digit_recognizer_model.h5')"
   ]
  }
 ],
 "metadata": {
  "accelerator": "TPU",
  "colab": {
   "provenance": []
  },
  "kernelspec": {
   "display_name": "Python 3 (ipykernel)",
   "language": "python",
   "name": "python3"
  },
  "language_info": {
   "codemirror_mode": {
    "name": "ipython",
    "version": 3
   },
   "file_extension": ".py",
   "mimetype": "text/x-python",
   "name": "python",
   "nbconvert_exporter": "python",
   "pygments_lexer": "ipython3",
   "version": "3.7.11"
  }
 },
 "nbformat": 4,
 "nbformat_minor": 1
}
