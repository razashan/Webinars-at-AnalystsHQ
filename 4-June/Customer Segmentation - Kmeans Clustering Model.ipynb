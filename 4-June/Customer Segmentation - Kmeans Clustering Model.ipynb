{
 "cells": [
  {
   "cell_type": "markdown",
   "id": "96ad1dc3",
   "metadata": {},
   "source": [
    "## Machine Learning - Clustering Model for Customer Segmentation"
   ]
  },
  {
   "cell_type": "markdown",
   "id": "502e5673",
   "metadata": {},
   "source": [
    "### Problem Statement"
   ]
  },
  {
   "cell_type": "markdown",
   "id": "3e612206",
   "metadata": {},
   "source": [
    "The goal of this project is to build a K-Means clustering with Python and Scikit-Learn using demograhpic and behavioral data from Data Techcon's Google Analytics account, to help the company improve how to predict user's behavior. Finally, create a marketing strategy on how to improve overall customer behavior and shopping pattern. This is a demographic customer segmentation use case"
   ]
  },
  {
   "cell_type": "code",
   "execution_count": 85,
   "id": "b800495f",
   "metadata": {},
   "outputs": [],
   "source": [
    "import pandas as pd\n",
    "import numpy as np\n",
    "from sklearn.cluster import KMeans\n",
    "from sklearn.preprocessing import StandardScaler"
   ]
  },
  {
   "cell_type": "code",
   "execution_count": 86,
   "id": "d938474b",
   "metadata": {},
   "outputs": [],
   "source": [
    "# Load the dataset\n",
    "df = pd.read_csv('/Users/tobeo/Documents/Datasets/Custseg_GA.csv')"
   ]
  },
  {
   "cell_type": "code",
   "execution_count": 87,
   "id": "a3b0b8ea",
   "metadata": {},
   "outputs": [
    {
     "data": {
      "text/html": [
       "<div>\n",
       "<style scoped>\n",
       "    .dataframe tbody tr th:only-of-type {\n",
       "        vertical-align: middle;\n",
       "    }\n",
       "\n",
       "    .dataframe tbody tr th {\n",
       "        vertical-align: top;\n",
       "    }\n",
       "\n",
       "    .dataframe thead th {\n",
       "        text-align: right;\n",
       "    }\n",
       "</style>\n",
       "<table border=\"1\" class=\"dataframe\">\n",
       "  <thead>\n",
       "    <tr style=\"text-align: right;\">\n",
       "      <th></th>\n",
       "      <th>Date</th>\n",
       "      <th>Gender</th>\n",
       "      <th>Region</th>\n",
       "      <th>Device Category</th>\n",
       "      <th>Age</th>\n",
       "      <th>Users</th>\n",
       "      <th>Transactions</th>\n",
       "    </tr>\n",
       "  </thead>\n",
       "  <tbody>\n",
       "    <tr>\n",
       "      <th>0</th>\n",
       "      <td>20220507</td>\n",
       "      <td>male</td>\n",
       "      <td>New York</td>\n",
       "      <td>desktop</td>\n",
       "      <td>25-34</td>\n",
       "      <td>287</td>\n",
       "      <td>0</td>\n",
       "    </tr>\n",
       "    <tr>\n",
       "      <th>1</th>\n",
       "      <td>20220506</td>\n",
       "      <td>male</td>\n",
       "      <td>New York</td>\n",
       "      <td>desktop</td>\n",
       "      <td>25-34</td>\n",
       "      <td>250</td>\n",
       "      <td>4</td>\n",
       "    </tr>\n",
       "    <tr>\n",
       "      <th>2</th>\n",
       "      <td>20220927</td>\n",
       "      <td>male</td>\n",
       "      <td>California</td>\n",
       "      <td>desktop</td>\n",
       "      <td>25-34</td>\n",
       "      <td>234</td>\n",
       "      <td>265</td>\n",
       "    </tr>\n",
       "    <tr>\n",
       "      <th>3</th>\n",
       "      <td>20220926</td>\n",
       "      <td>male</td>\n",
       "      <td>California</td>\n",
       "      <td>desktop</td>\n",
       "      <td>25-34</td>\n",
       "      <td>204</td>\n",
       "      <td>163</td>\n",
       "    </tr>\n",
       "    <tr>\n",
       "      <th>4</th>\n",
       "      <td>20221207</td>\n",
       "      <td>male</td>\n",
       "      <td>California</td>\n",
       "      <td>desktop</td>\n",
       "      <td>25-34</td>\n",
       "      <td>144</td>\n",
       "      <td>64</td>\n",
       "    </tr>\n",
       "  </tbody>\n",
       "</table>\n",
       "</div>"
      ],
      "text/plain": [
       "       Date Gender      Region Device Category    Age  Users  Transactions\n",
       "0  20220507   male    New York         desktop  25-34    287             0\n",
       "1  20220506   male    New York         desktop  25-34    250             4\n",
       "2  20220927   male  California         desktop  25-34    234           265\n",
       "3  20220926   male  California         desktop  25-34    204           163\n",
       "4  20221207   male  California         desktop  25-34    144            64"
      ]
     },
     "execution_count": 87,
     "metadata": {},
     "output_type": "execute_result"
    }
   ],
   "source": [
    "df.head()"
   ]
  },
  {
   "cell_type": "code",
   "execution_count": 88,
   "id": "374bcdcb",
   "metadata": {},
   "outputs": [
    {
     "name": "stdout",
     "output_type": "stream",
     "text": [
      "<class 'pandas.core.frame.DataFrame'>\n",
      "RangeIndex: 732 entries, 0 to 731\n",
      "Data columns (total 7 columns):\n",
      " #   Column           Non-Null Count  Dtype \n",
      "---  ------           --------------  ----- \n",
      " 0   Date             732 non-null    int64 \n",
      " 1   Gender           732 non-null    object\n",
      " 2   Region           732 non-null    object\n",
      " 3   Device Category  732 non-null    object\n",
      " 4   Age              732 non-null    object\n",
      " 5   Users            732 non-null    int64 \n",
      " 6   Transactions     732 non-null    int64 \n",
      "dtypes: int64(3), object(4)\n",
      "memory usage: 40.2+ KB\n"
     ]
    }
   ],
   "source": [
    "df.info()"
   ]
  },
  {
   "cell_type": "code",
   "execution_count": 89,
   "id": "115c5226",
   "metadata": {},
   "outputs": [
    {
     "data": {
      "text/plain": [
       "(732, 7)"
      ]
     },
     "execution_count": 89,
     "metadata": {},
     "output_type": "execute_result"
    }
   ],
   "source": [
    "df.shape"
   ]
  },
  {
   "cell_type": "code",
   "execution_count": 90,
   "id": "1ad9ef0e",
   "metadata": {},
   "outputs": [
    {
     "data": {
      "text/html": [
       "<div>\n",
       "<style scoped>\n",
       "    .dataframe tbody tr th:only-of-type {\n",
       "        vertical-align: middle;\n",
       "    }\n",
       "\n",
       "    .dataframe tbody tr th {\n",
       "        vertical-align: top;\n",
       "    }\n",
       "\n",
       "    .dataframe thead th {\n",
       "        text-align: right;\n",
       "    }\n",
       "</style>\n",
       "<table border=\"1\" class=\"dataframe\">\n",
       "  <thead>\n",
       "    <tr style=\"text-align: right;\">\n",
       "      <th></th>\n",
       "      <th>Date</th>\n",
       "      <th>Users</th>\n",
       "      <th>Transactions</th>\n",
       "    </tr>\n",
       "  </thead>\n",
       "  <tbody>\n",
       "    <tr>\n",
       "      <th>count</th>\n",
       "      <td>7.320000e+02</td>\n",
       "      <td>732.000000</td>\n",
       "      <td>732.000000</td>\n",
       "    </tr>\n",
       "    <tr>\n",
       "      <th>mean</th>\n",
       "      <td>2.021788e+07</td>\n",
       "      <td>53.923497</td>\n",
       "      <td>26.463115</td>\n",
       "    </tr>\n",
       "    <tr>\n",
       "      <th>std</th>\n",
       "      <td>4.493583e+03</td>\n",
       "      <td>22.625292</td>\n",
       "      <td>22.386482</td>\n",
       "    </tr>\n",
       "    <tr>\n",
       "      <th>min</th>\n",
       "      <td>2.021013e+07</td>\n",
       "      <td>38.000000</td>\n",
       "      <td>0.000000</td>\n",
       "    </tr>\n",
       "    <tr>\n",
       "      <th>25%</th>\n",
       "      <td>2.021120e+07</td>\n",
       "      <td>42.000000</td>\n",
       "      <td>11.000000</td>\n",
       "    </tr>\n",
       "    <tr>\n",
       "      <th>50%</th>\n",
       "      <td>2.022052e+07</td>\n",
       "      <td>49.000000</td>\n",
       "      <td>23.000000</td>\n",
       "    </tr>\n",
       "    <tr>\n",
       "      <th>75%</th>\n",
       "      <td>2.022093e+07</td>\n",
       "      <td>60.000000</td>\n",
       "      <td>34.000000</td>\n",
       "    </tr>\n",
       "    <tr>\n",
       "      <th>max</th>\n",
       "      <td>2.022122e+07</td>\n",
       "      <td>287.000000</td>\n",
       "      <td>265.000000</td>\n",
       "    </tr>\n",
       "  </tbody>\n",
       "</table>\n",
       "</div>"
      ],
      "text/plain": [
       "               Date       Users  Transactions\n",
       "count  7.320000e+02  732.000000    732.000000\n",
       "mean   2.021788e+07   53.923497     26.463115\n",
       "std    4.493583e+03   22.625292     22.386482\n",
       "min    2.021013e+07   38.000000      0.000000\n",
       "25%    2.021120e+07   42.000000     11.000000\n",
       "50%    2.022052e+07   49.000000     23.000000\n",
       "75%    2.022093e+07   60.000000     34.000000\n",
       "max    2.022122e+07  287.000000    265.000000"
      ]
     },
     "execution_count": 90,
     "metadata": {},
     "output_type": "execute_result"
    }
   ],
   "source": [
    "df.describe()"
   ]
  },
  {
   "cell_type": "markdown",
   "id": "6cb75377",
   "metadata": {},
   "source": [
    "### Data Preprocessing"
   ]
  },
  {
   "cell_type": "code",
   "execution_count": 91,
   "id": "278c7edc",
   "metadata": {},
   "outputs": [
    {
     "data": {
      "text/html": [
       "<div>\n",
       "<style scoped>\n",
       "    .dataframe tbody tr th:only-of-type {\n",
       "        vertical-align: middle;\n",
       "    }\n",
       "\n",
       "    .dataframe tbody tr th {\n",
       "        vertical-align: top;\n",
       "    }\n",
       "\n",
       "    .dataframe thead th {\n",
       "        text-align: right;\n",
       "    }\n",
       "</style>\n",
       "<table border=\"1\" class=\"dataframe\">\n",
       "  <thead>\n",
       "    <tr style=\"text-align: right;\">\n",
       "      <th></th>\n",
       "      <th>Date</th>\n",
       "      <th>Gender</th>\n",
       "      <th>Region</th>\n",
       "      <th>Device Category</th>\n",
       "      <th>Age</th>\n",
       "      <th>Users</th>\n",
       "      <th>Transactions</th>\n",
       "    </tr>\n",
       "  </thead>\n",
       "  <tbody>\n",
       "    <tr>\n",
       "      <th>0</th>\n",
       "      <td>False</td>\n",
       "      <td>False</td>\n",
       "      <td>False</td>\n",
       "      <td>False</td>\n",
       "      <td>False</td>\n",
       "      <td>False</td>\n",
       "      <td>False</td>\n",
       "    </tr>\n",
       "    <tr>\n",
       "      <th>1</th>\n",
       "      <td>False</td>\n",
       "      <td>False</td>\n",
       "      <td>False</td>\n",
       "      <td>False</td>\n",
       "      <td>False</td>\n",
       "      <td>False</td>\n",
       "      <td>False</td>\n",
       "    </tr>\n",
       "    <tr>\n",
       "      <th>2</th>\n",
       "      <td>False</td>\n",
       "      <td>False</td>\n",
       "      <td>False</td>\n",
       "      <td>False</td>\n",
       "      <td>False</td>\n",
       "      <td>False</td>\n",
       "      <td>False</td>\n",
       "    </tr>\n",
       "    <tr>\n",
       "      <th>3</th>\n",
       "      <td>False</td>\n",
       "      <td>False</td>\n",
       "      <td>False</td>\n",
       "      <td>False</td>\n",
       "      <td>False</td>\n",
       "      <td>False</td>\n",
       "      <td>False</td>\n",
       "    </tr>\n",
       "    <tr>\n",
       "      <th>4</th>\n",
       "      <td>False</td>\n",
       "      <td>False</td>\n",
       "      <td>False</td>\n",
       "      <td>False</td>\n",
       "      <td>False</td>\n",
       "      <td>False</td>\n",
       "      <td>False</td>\n",
       "    </tr>\n",
       "    <tr>\n",
       "      <th>...</th>\n",
       "      <td>...</td>\n",
       "      <td>...</td>\n",
       "      <td>...</td>\n",
       "      <td>...</td>\n",
       "      <td>...</td>\n",
       "      <td>...</td>\n",
       "      <td>...</td>\n",
       "    </tr>\n",
       "    <tr>\n",
       "      <th>727</th>\n",
       "      <td>False</td>\n",
       "      <td>False</td>\n",
       "      <td>False</td>\n",
       "      <td>False</td>\n",
       "      <td>False</td>\n",
       "      <td>False</td>\n",
       "      <td>False</td>\n",
       "    </tr>\n",
       "    <tr>\n",
       "      <th>728</th>\n",
       "      <td>False</td>\n",
       "      <td>False</td>\n",
       "      <td>False</td>\n",
       "      <td>False</td>\n",
       "      <td>False</td>\n",
       "      <td>False</td>\n",
       "      <td>False</td>\n",
       "    </tr>\n",
       "    <tr>\n",
       "      <th>729</th>\n",
       "      <td>False</td>\n",
       "      <td>False</td>\n",
       "      <td>False</td>\n",
       "      <td>False</td>\n",
       "      <td>False</td>\n",
       "      <td>False</td>\n",
       "      <td>False</td>\n",
       "    </tr>\n",
       "    <tr>\n",
       "      <th>730</th>\n",
       "      <td>False</td>\n",
       "      <td>False</td>\n",
       "      <td>False</td>\n",
       "      <td>False</td>\n",
       "      <td>False</td>\n",
       "      <td>False</td>\n",
       "      <td>False</td>\n",
       "    </tr>\n",
       "    <tr>\n",
       "      <th>731</th>\n",
       "      <td>False</td>\n",
       "      <td>False</td>\n",
       "      <td>False</td>\n",
       "      <td>False</td>\n",
       "      <td>False</td>\n",
       "      <td>False</td>\n",
       "      <td>False</td>\n",
       "    </tr>\n",
       "  </tbody>\n",
       "</table>\n",
       "<p>732 rows × 7 columns</p>\n",
       "</div>"
      ],
      "text/plain": [
       "      Date  Gender  Region  Device Category    Age  Users  Transactions\n",
       "0    False   False   False            False  False  False         False\n",
       "1    False   False   False            False  False  False         False\n",
       "2    False   False   False            False  False  False         False\n",
       "3    False   False   False            False  False  False         False\n",
       "4    False   False   False            False  False  False         False\n",
       "..     ...     ...     ...              ...    ...    ...           ...\n",
       "727  False   False   False            False  False  False         False\n",
       "728  False   False   False            False  False  False         False\n",
       "729  False   False   False            False  False  False         False\n",
       "730  False   False   False            False  False  False         False\n",
       "731  False   False   False            False  False  False         False\n",
       "\n",
       "[732 rows x 7 columns]"
      ]
     },
     "execution_count": 91,
     "metadata": {},
     "output_type": "execute_result"
    }
   ],
   "source": [
    "df.isnull()"
   ]
  },
  {
   "cell_type": "code",
   "execution_count": 92,
   "id": "c07b0f99",
   "metadata": {},
   "outputs": [
    {
     "data": {
      "text/plain": [
       "Date               0\n",
       "Gender             0\n",
       "Region             0\n",
       "Device Category    0\n",
       "Age                0\n",
       "Users              0\n",
       "Transactions       0\n",
       "dtype: int64"
      ]
     },
     "execution_count": 92,
     "metadata": {},
     "output_type": "execute_result"
    }
   ],
   "source": [
    "df.isnull().sum()"
   ]
  },
  {
   "cell_type": "code",
   "execution_count": 93,
   "id": "4681bd0a",
   "metadata": {},
   "outputs": [],
   "source": [
    "df = df.drop(['Date'], axis=1)"
   ]
  },
  {
   "cell_type": "code",
   "execution_count": 94,
   "id": "d81e48e5",
   "metadata": {},
   "outputs": [
    {
     "data": {
      "text/html": [
       "<div>\n",
       "<style scoped>\n",
       "    .dataframe tbody tr th:only-of-type {\n",
       "        vertical-align: middle;\n",
       "    }\n",
       "\n",
       "    .dataframe tbody tr th {\n",
       "        vertical-align: top;\n",
       "    }\n",
       "\n",
       "    .dataframe thead th {\n",
       "        text-align: right;\n",
       "    }\n",
       "</style>\n",
       "<table border=\"1\" class=\"dataframe\">\n",
       "  <thead>\n",
       "    <tr style=\"text-align: right;\">\n",
       "      <th></th>\n",
       "      <th>Gender</th>\n",
       "      <th>Region</th>\n",
       "      <th>Device Category</th>\n",
       "      <th>Age</th>\n",
       "      <th>Users</th>\n",
       "      <th>Transactions</th>\n",
       "    </tr>\n",
       "  </thead>\n",
       "  <tbody>\n",
       "    <tr>\n",
       "      <th>0</th>\n",
       "      <td>male</td>\n",
       "      <td>New York</td>\n",
       "      <td>desktop</td>\n",
       "      <td>25-34</td>\n",
       "      <td>287</td>\n",
       "      <td>0</td>\n",
       "    </tr>\n",
       "    <tr>\n",
       "      <th>1</th>\n",
       "      <td>male</td>\n",
       "      <td>New York</td>\n",
       "      <td>desktop</td>\n",
       "      <td>25-34</td>\n",
       "      <td>250</td>\n",
       "      <td>4</td>\n",
       "    </tr>\n",
       "    <tr>\n",
       "      <th>2</th>\n",
       "      <td>male</td>\n",
       "      <td>California</td>\n",
       "      <td>desktop</td>\n",
       "      <td>25-34</td>\n",
       "      <td>234</td>\n",
       "      <td>265</td>\n",
       "    </tr>\n",
       "    <tr>\n",
       "      <th>3</th>\n",
       "      <td>male</td>\n",
       "      <td>California</td>\n",
       "      <td>desktop</td>\n",
       "      <td>25-34</td>\n",
       "      <td>204</td>\n",
       "      <td>163</td>\n",
       "    </tr>\n",
       "    <tr>\n",
       "      <th>4</th>\n",
       "      <td>male</td>\n",
       "      <td>California</td>\n",
       "      <td>desktop</td>\n",
       "      <td>25-34</td>\n",
       "      <td>144</td>\n",
       "      <td>64</td>\n",
       "    </tr>\n",
       "  </tbody>\n",
       "</table>\n",
       "</div>"
      ],
      "text/plain": [
       "  Gender      Region Device Category    Age  Users  Transactions\n",
       "0   male    New York         desktop  25-34    287             0\n",
       "1   male    New York         desktop  25-34    250             4\n",
       "2   male  California         desktop  25-34    234           265\n",
       "3   male  California         desktop  25-34    204           163\n",
       "4   male  California         desktop  25-34    144            64"
      ]
     },
     "execution_count": 94,
     "metadata": {},
     "output_type": "execute_result"
    }
   ],
   "source": [
    "df.head()"
   ]
  },
  {
   "cell_type": "markdown",
   "id": "d3af9c9a",
   "metadata": {},
   "source": [
    "#### Convert categorical variable to numeric"
   ]
  },
  {
   "cell_type": "code",
   "execution_count": 95,
   "id": "8b8a8d31",
   "metadata": {
    "scrolled": true
   },
   "outputs": [
    {
     "name": "stdout",
     "output_type": "stream",
     "text": [
      "  Gender      Region Device Category   Age  Users  Transactions\n",
      "0   male    New York         desktop  29.5    287             0\n",
      "1   male    New York         desktop  29.5    250             4\n",
      "2   male  California         desktop  29.5    234           265\n",
      "3   male  California         desktop  29.5    204           163\n",
      "4   male  California         desktop  29.5    144            64\n"
     ]
    }
   ],
   "source": [
    "# Convert 'Age' to float\n",
    "df['Age'] = df['Age'].apply(lambda x: sum(map(int, x.split('-'))) / 2 if '-' in x else float(x))\n",
    "\n",
    "# Print the updated dataframe\n",
    "print(df.head())"
   ]
  },
  {
   "cell_type": "markdown",
   "id": "996b9355",
   "metadata": {},
   "source": [
    "-  use the apply() function to apply a lambda function to each value in the 'Age' column. If a value contains a '-', it means it's a range, so we split the value at '-' and calculate the average. Otherwise, we convert the value to float directly.\n",
    "- Lambda used for simple, one-line functions  lambda function is used within the apply() method to convert the 'Age' values to float. Let's break down the lambda function:"
   ]
  },
  {
   "cell_type": "markdown",
   "id": "ead4b68d",
   "metadata": {},
   "source": [
    "### Building Machine Learning Model"
   ]
  },
  {
   "cell_type": "code",
   "execution_count": 96,
   "id": "37ea17d3",
   "metadata": {},
   "outputs": [],
   "source": [
    "from sklearn.compose import ColumnTransformer\n",
    "from sklearn.preprocessing import StandardScaler, OneHotEncoder"
   ]
  },
  {
   "cell_type": "code",
   "execution_count": 97,
   "id": "7c4f780d",
   "metadata": {
    "scrolled": true
   },
   "outputs": [],
   "source": [
    "# Select the features for clustering\n",
    "X = df[['Age', 'Users', 'Transactions']].values"
   ]
  },
  {
   "cell_type": "code",
   "execution_count": 98,
   "id": "852970c1",
   "metadata": {},
   "outputs": [],
   "source": [
    "# Perform data preprocessing\n",
    "scaler = StandardScaler()\n",
    "X_scaled = scaler.fit_transform(X)"
   ]
  },
  {
   "cell_type": "code",
   "execution_count": 99,
   "id": "2dd62a84",
   "metadata": {},
   "outputs": [],
   "source": [
    "# Determine the optimal number of clusters using the elbow method\n",
    "wcss = []\n",
    "for i in range(1, 11):\n",
    "    kmeans = KMeans(n_clusters=i, random_state=42)\n",
    "    kmeans.fit(X_scaled)\n",
    "    wcss.append(kmeans.inertia_)"
   ]
  },
  {
   "cell_type": "code",
   "execution_count": 100,
   "id": "7bb9611a",
   "metadata": {},
   "outputs": [
    {
     "data": {
      "image/png": "[encoded data removed]",
      "text/plain": [
       "<Figure size 432x288 with 1 Axes>"
      ]
     },
     "metadata": {
      "needs_background": "light"
     },
     "output_type": "display_data"
    }
   ],
   "source": [
    "# Plot the elbow curve to visualize the optimal number of clusters\n",
    "import matplotlib.pyplot as plt\n",
    "plt.plot(range(1, 11), wcss)\n",
    "plt.title('Elbow Curve')\n",
    "plt.xlabel('Number of Clusters')\n",
    "plt.ylabel('WCSS')\n",
    "plt.show()\n"
   ]
  },
  {
   "cell_type": "code",
   "execution_count": 156,
   "id": "be27ba78",
   "metadata": {},
   "outputs": [],
   "source": [
    "# Based on the elbow curve, select the optimal number of clusters\n",
    "n_clusters = 3  # Adjust this based on the elbow curve"
   ]
  },
  {
   "cell_type": "code",
   "execution_count": 157,
   "id": "4d91fe58",
   "metadata": {},
   "outputs": [
    {
     "data": {
      "text/plain": [
       "KMeans(n_clusters=3, random_state=42)"
      ]
     },
     "execution_count": 157,
     "metadata": {},
     "output_type": "execute_result"
    }
   ],
   "source": [
    "# Build the K-means clustering model\n",
    "kmeans = KMeans(n_clusters=n_clusters, random_state=42)\n",
    "kmeans.fit(X_scaled)"
   ]
  },
  {
   "cell_type": "code",
   "execution_count": 158,
   "id": "bb3e1cdf",
   "metadata": {},
   "outputs": [],
   "source": [
    "# Assign the clusters to the data points\n",
    "df['Cluster'] = kmeans.labels_"
   ]
  },
  {
   "cell_type": "code",
   "execution_count": 159,
   "id": "13dcf6a0",
   "metadata": {},
   "outputs": [
    {
     "name": "stdout",
     "output_type": "stream",
     "text": [
      "Cluster Centers:\n",
      "[[ 26.82857143  50.95535714  24.00357143]\n",
      " [ 40.82352941  49.21323529  23.07352941]\n",
      " [ 28.91666667 117.88888889  77.52777778]]\n"
     ]
    }
   ],
   "source": [
    "# Print the cluster centers\n",
    "cluster_centers = scaler.inverse_transform(kmeans.cluster_centers_)\n",
    "print(\"Cluster Centers:\")\n",
    "print(cluster_centers)"
   ]
  },
  {
   "cell_type": "code",
   "execution_count": 161,
   "id": "41faea08",
   "metadata": {},
   "outputs": [
    {
     "data": {
      "text/plain": [
       "1216.9423676157676"
      ]
     },
     "execution_count": 161,
     "metadata": {},
     "output_type": "execute_result"
    }
   ],
   "source": [
    "#Evaluate the model performance using inertia metric\n",
    "kmeans.inertia_"
   ]
  },
  {
   "cell_type": "code",
   "execution_count": 162,
   "id": "7a513831",
   "metadata": {},
   "outputs": [],
   "source": [
    "# Based on the elbow curve, select the optimal number of clusters\n",
    "n_clusters = 7  # Adjust this based on the elbow curve"
   ]
  },
  {
   "cell_type": "code",
   "execution_count": 163,
   "id": "b2dcd8d1",
   "metadata": {},
   "outputs": [
    {
     "data": {
      "text/plain": [
       "KMeans(n_clusters=7, random_state=42)"
      ]
     },
     "execution_count": 163,
     "metadata": {},
     "output_type": "execute_result"
    }
   ],
   "source": [
    "# Build the K-means clustering model\n",
    "kmeans = KMeans(n_clusters=n_clusters, random_state=42)\n",
    "kmeans.fit(X_scaled)"
   ]
  },
  {
   "cell_type": "code",
   "execution_count": 164,
   "id": "e8b7cdca",
   "metadata": {},
   "outputs": [],
   "source": [
    "# Assign the clusters to the data points\n",
    "df['Cluster'] = kmeans.labels_"
   ]
  },
  {
   "cell_type": "code",
   "execution_count": 165,
   "id": "84cdc0f8",
   "metadata": {},
   "outputs": [
    {
     "name": "stdout",
     "output_type": "stream",
     "text": [
      "Cluster Centers:\n",
      "[[ 28.88135593  86.96610169  20.37288136]\n",
      " [ 29.5         46.53053435  18.23664122]\n",
      " [ 29.53240741  59.84259259  53.75925926]\n",
      " [ 28.39285714 131.57142857 115.42857143]\n",
      " [ 40.92857143  47.3968254   21.17460317]\n",
      " [ 21.          45.56521739  20.47826087]\n",
      " [ 29.5        268.5          2.        ]]\n"
     ]
    }
   ],
   "source": [
    "#Print the cluster centers\n",
    "cluster_centers = scaler.inverse_transform(kmeans.cluster_centers_)\n",
    "print(\"Cluster Centers:\")\n",
    "print(cluster_centers)"
   ]
  },
  {
   "cell_type": "code",
   "execution_count": 135,
   "id": "50c8dfec",
   "metadata": {},
   "outputs": [
    {
     "data": {
      "text/plain": [
       "514.6528591046088"
      ]
     },
     "execution_count": 135,
     "metadata": {},
     "output_type": "execute_result"
    }
   ],
   "source": [
    "kmeans.inertia_"
   ]
  },
  {
   "cell_type": "markdown",
   "id": "c61faa05",
   "metadata": {},
   "source": [
    "### Key Insight on Inertia\n",
    "\n",
    "\n",
    "- Inertia is a measure of how internally coherent the clusters are. It calculates the sum of squared distances of samples to their closest cluster center. Inertia values are problem-specific and depend on the scale and nature of the dataset. There is no universally \"great\" inertia score as it varies from dataset to dataset.\n",
    "\n",
    "- Lower inertia values generally indicate better clustering performance, as it suggests that the samples within each cluster are closer to their respective cluster centers. The relative goodness of inertia scores can be assessed by comparing them to other inertia values within the same dataset.\n",
    "\n",
    "- It is important to note that inertia alone may not provide a complete assessment of clustering performance. It should be used in combination with other evaluation metrics and domain knowledge to make informed decisions about the quality of the clusters. Additionally, the interpretability and usefulness of the resulting clusters should also be considered in evaluating the performance of the model."
   ]
  },
  {
   "cell_type": "code",
   "execution_count": 105,
   "id": "36cbd1ef",
   "metadata": {},
   "outputs": [
    {
     "name": "stdout",
     "output_type": "stream",
     "text": [
      "Cluster Analysis:\n",
      "               Age       Users  Transactions\n",
      "Cluster                                     \n",
      "0        26.828571   50.955357     24.003571\n",
      "1        40.823529   49.213235     23.073529\n",
      "2        28.916667  117.888889     77.527778\n"
     ]
    }
   ],
   "source": [
    "# Perform cluster analysis\n",
    "cluster_analysis = df.groupby('Cluster').mean()\n",
    "print(\"Cluster Analysis:\")\n",
    "print(cluster_analysis)"
   ]
  },
  {
   "cell_type": "markdown",
   "id": "4d03da65",
   "metadata": {},
   "source": [
    "#### clusters visual using a scatter plot to show the relationship between age and transaction "
   ]
  },
  {
   "cell_type": "code",
   "execution_count": 106,
   "id": "a6878d20",
   "metadata": {
    "scrolled": false
   },
   "outputs": [
    {
     "data": {
      "image/png": "[encoded data removed]",
      "text/plain": [
       "<Figure size 720x576 with 1 Axes>"
      ]
     },
     "metadata": {
      "needs_background": "light"
     },
     "output_type": "display_data"
    }
   ],
   "source": [
    "fig, ax = plt.subplots(figsize=(10, 8))  # Adjust the figsize as per your preference\n",
    "\n",
    "# Visualize the clusters with cluster labels\n",
    "plt.scatter(X[:, 0], X[:, 2], c=kmeans.labels_, cmap='viridis', s=50)  # Increase marker size by changing 's' value\n",
    "plt.scatter(cluster_centers[:, 0], cluster_centers[:, 2], s=300, c='red', label='Centroids')\n",
    "\n",
    "# Add cluster labels\n",
    "for i, txt in enumerate(kmeans.labels_):\n",
    "    plt.annotate(txt, (X[i, 0], X[i, 2]), fontsize=8, color='black', ha='center', va='center')\n",
    "\n",
    "plt.title('Customer Segmentation')\n",
    "plt.xlabel('Age')\n",
    "plt.ylabel('Transactions')\n",
    "plt.legend()\n",
    "plt.show()\n"
   ]
  },
  {
   "cell_type": "markdown",
   "id": "85da3bd0",
   "metadata": {},
   "source": [
    "#### Interpreting the scatter plot chart\n",
    "\n",
    "- The x-axis represents the 'Age' of the customers, and the y-axis represents the 'Transactions' made by the customers.\n",
    "- Each data point in the scatter plot represents a customer.\n",
    "- The different colors represent different clusters assigned by the K-means algorithm.\n",
    "- The yellow color clusters, located at the top of the plot, indicate a segment of customers who are relatively younger and have higher transaction values.\n",
    "- The distribution and clustering of data points can provide insights into the relationships between age and transaction behavior.\n",
    "- Other clusters represented by different colors may indicate different segments of customers based on their age and transaction patterns."
   ]
  },
  {
   "cell_type": "markdown",
   "id": "eaca9009",
   "metadata": {},
   "source": [
    "#### Let's identify the clusters color"
   ]
  },
  {
   "cell_type": "code",
   "execution_count": 107,
   "id": "5fa15635",
   "metadata": {},
   "outputs": [
    {
     "name": "stderr",
     "output_type": "stream",
     "text": [
      "*c* argument looks like a single numeric RGB or RGBA sequence, which should be avoided as value-mapping will have precedence in case its length matches with *x* & *y*.  Please use the *color* keyword-argument or provide a 2D array with a single row if you intend to specify the same RGB or RGBA value for all points.\n",
      "*c* argument looks like a single numeric RGB or RGBA sequence, which should be avoided as value-mapping will have precedence in case its length matches with *x* & *y*.  Please use the *color* keyword-argument or provide a 2D array with a single row if you intend to specify the same RGB or RGBA value for all points.\n",
      "*c* argument looks like a single numeric RGB or RGBA sequence, which should be avoided as value-mapping will have precedence in case its length matches with *x* & *y*.  Please use the *color* keyword-argument or provide a 2D array with a single row if you intend to specify the same RGB or RGBA value for all points.\n"
     ]
    },
    {
     "data": {
      "image/png": "[encoded data removed]",
      "text/plain": [
       "<Figure size 576x144 with 1 Axes>"
      ]
     },
     "metadata": {
      "needs_background": "light"
     },
     "output_type": "display_data"
    }
   ],
   "source": [
    "# Get unique cluster labels\n",
    "unique_labels = np.unique(kmeans.labels_)\n",
    "\n",
    "# Assign a color to each unique cluster label\n",
    "colors = plt.cm.viridis(np.linspace(0, 1, len(unique_labels)))\n",
    "\n",
    "# Create a color map legend\n",
    "plt.figure(figsize=(8, 2))\n",
    "for i, label in enumerate(unique_labels):\n",
    "    plt.scatter([], [], c=colors[i], label='Cluster {}'.format(label))\n",
    "\n",
    "plt.legend(loc='center', ncol=len(unique_labels))\n",
    "plt.axis('off')\n",
    "plt.show()"
   ]
  },
  {
   "cell_type": "markdown",
   "id": "b81e9000",
   "metadata": {},
   "source": [
    "- The yellow color clusters being at the top indicate that they have higher values for both 'Age' and 'Transactions'."
   ]
  },
  {
   "cell_type": "markdown",
   "id": "99b7e4de",
   "metadata": {},
   "source": [
    "#### Let's find the cluster with highest transactions"
   ]
  },
  {
   "cell_type": "code",
   "execution_count": 108,
   "id": "7ce19a6a",
   "metadata": {},
   "outputs": [
    {
     "name": "stdout",
     "output_type": "stream",
     "text": [
      "Cluster with the Highest Transaction:\n",
      "Cluster: 2\n",
      "Average Transaction Value: 77.52777777777777\n"
     ]
    }
   ],
   "source": [
    "highest_transaction_cluster = cluster_analysis['Transactions'].idxmax()\n",
    "highest_transaction_value = cluster_analysis.loc[highest_transaction_cluster, 'Transactions']\n",
    "\n",
    "print(\"Cluster with the Highest Transaction:\")\n",
    "print(\"Cluster:\", highest_transaction_cluster)\n",
    "print(\"Average Transaction Value:\", highest_transaction_value)\n"
   ]
  },
  {
   "cell_type": "markdown",
   "id": "2454d1b3",
   "metadata": {},
   "source": [
    "#### Find the customer age group in cluster 2"
   ]
  },
  {
   "cell_type": "code",
   "execution_count": 109,
   "id": "5e579811",
   "metadata": {
    "scrolled": true
   },
   "outputs": [
    {
     "name": "stdout",
     "output_type": "stream",
     "text": [
      "Ages in Cluster 2:\n",
      "0      29.5\n",
      "1      29.5\n",
      "2      29.5\n",
      "3      29.5\n",
      "4      29.5\n",
      "5      21.0\n",
      "6      29.5\n",
      "7      29.5\n",
      "8      29.5\n",
      "9      21.0\n",
      "10     29.5\n",
      "11     29.5\n",
      "14     29.5\n",
      "15     29.5\n",
      "16     29.5\n",
      "18     39.5\n",
      "19     39.5\n",
      "20     29.5\n",
      "21     29.5\n",
      "24     21.0\n",
      "26     29.5\n",
      "27     29.5\n",
      "29     29.5\n",
      "30     39.5\n",
      "33     29.5\n",
      "34     21.0\n",
      "35     29.5\n",
      "66     21.0\n",
      "70     21.0\n",
      "72     29.5\n",
      "95     29.5\n",
      "97     29.5\n",
      "99     29.5\n",
      "125    29.5\n",
      "144    29.5\n",
      "155    29.5\n",
      "Name: Age, dtype: float64\n"
     ]
    }
   ],
   "source": [
    "cluster_2_ages = df.loc[df['Cluster'] == 2, 'Age']\n",
    "\n",
    "print(\"Ages in Cluster 2:\")\n",
    "print(cluster_2_ages)\n"
   ]
  },
  {
   "cell_type": "markdown",
   "id": "b49d7333",
   "metadata": {},
   "source": [
    "### Interpreting Insights"
   ]
  },
  {
   "cell_type": "markdown",
   "id": "6e04df2e",
   "metadata": {},
   "source": [
    "Interpreting the insights from clustering models requires analyzing the characteristics of each cluster and understanding the patterns and differences between them. Here are some general steps to interpret the insights from clustering models:\n",
    "\n",
    "- Cluster Characteristics: Examine the cluster centers or centroids to understand the average values of the features within each cluster. Look for distinct patterns or differences in feature values between clusters. For example, in customer segmentation based on age, users, and transactions, you might find clusters with high transaction numbers and user counts, indicating frequent and engaged customers.\n",
    "\n",
    "- Cluster Analysis: Perform further analysis on each cluster to understand their unique characteristics. Calculate the mean, median, or other relevant statistics for each feature within each cluster. Compare the values across clusters to identify differences and similarities. For instance, you may find that a particular age group has higher transaction numbers and user counts compared to others.\n",
    "\n",
    "- Visualization: Visualize the clusters to gain a better understanding of the patterns. Plotting the data points in a scatter plot with different colors for each cluster can help identify clusters' boundaries and their relationships with specific features.\n",
    "\n",
    "- Business Context: Interpret the insights within the context of your business or domain knowledge. Consider how the identified clusters relate to your business objectives or marketing strategies. For example, if you discover a cluster with high transaction numbers but low user counts, it may indicate an opportunity to focus on customer retention or increasing user engagement.\n",
    "\n",
    "- Actionable Insights: Translate the insights into actionable recommendations for decision-makers or stakeholders. Identify the key findings and propose strategies or initiatives based on the cluster characteristics. For instance, you might suggest targeting specific age groups or developing tailored marketing campaigns for customers with certain transaction behaviors."
   ]
  },
  {
   "cell_type": "code",
   "execution_count": 110,
   "id": "66ef31f2",
   "metadata": {},
   "outputs": [
    {
     "data": {
      "image/png": "[encoded data removed]",
      "text/plain": [
       "<Figure size 432x288 with 1 Axes>"
      ]
     },
     "metadata": {
      "needs_background": "light"
     },
     "output_type": "display_data"
    }
   ],
   "source": [
    "# Get the inertia values\n",
    "inertia_values = wcss\n",
    "\n",
    "# Plot the inertia values\n",
    "plt.plot(range(1, 11), inertia_values)\n",
    "plt.title('Inertia Values')\n",
    "plt.xlabel('Number of Clusters')\n",
    "plt.ylabel('Inertia')\n",
    "plt.show()\n"
   ]
  },
  {
   "cell_type": "code",
   "execution_count": 111,
   "id": "4c701147",
   "metadata": {},
   "outputs": [
    {
     "data": {
      "text/plain": [
       "1216.9423676157676"
      ]
     },
     "execution_count": 111,
     "metadata": {},
     "output_type": "execute_result"
    }
   ],
   "source": [
    "kmeans.inertia_"
   ]
  },
  {
   "cell_type": "markdown",
   "id": "edb7f66c",
   "metadata": {},
   "source": [
    "### Key Insights"
   ]
  },
  {
   "cell_type": "markdown",
   "id": "57c88425",
   "metadata": {},
   "source": [
    "- we can observe the average age and transaction values for each cluster. This provides valuable insights into the age groups and transaction patterns of your customers. For example, we can see that Cluster 2 has a relatively higher average age and transaction values, while Cluster 1 and Cluster 3 have lower average values in comparison.\n",
    "\n",
    "- Cluster 1 has the highest average user count among the clusters. This implies that customers in Cluster 1 are highly engaged and active users of your products or services.\n",
    "\n",
    "- Scatter plot shows the relationship between age and transaction values. Each data point represents a customer, and the color represents the assigned cluster. Additionally, the red points indicate the cluster centers, representing the average age and transaction values of each cluster.\n",
    "\n"
   ]
  },
  {
   "cell_type": "markdown",
   "id": "859755f5",
   "metadata": {},
   "source": [
    "### Marketing Strategy Recommendation"
   ]
  },
  {
   "cell_type": "markdown",
   "id": "8209a827",
   "metadata": {},
   "source": [
    "- Personalized Offers: Develop personalized offers or discounts tailored to the preferences and needs of customers in Cluster 2. Analyze their transaction history and purchase patterns to identify specific products or categories they are interested in, and create targeted promotions to incentivize further purchases.\n",
    "\n",
    "- Loyalty Programs: Implement a loyalty program specifically designed for customers in Cluster 2. Reward their high transaction values with exclusive benefits, such as VIP access, early product launches, or additional discounts on future purchases. This can help strengthen their loyalty and encourage repeat transactions.\n",
    "\n",
    "- Upselling and Cross-selling: Leverage the high transaction values of customers in Cluster 2 by recommending complementary products or upselling higher-priced items. Identify product associations or common purchase patterns within this cluster and use personalized recommendations to promote additional products that align with their preferences.\n",
    "\n",
    "- Exclusive Events or Experiences: Organize exclusive events or experiences for customers in Cluster 2 to foster a sense of exclusivity and strengthen their engagement. This could include VIP shopping events, product demonstrations, or invitation-only sales events. Providing unique experiences can enhance their connection with your brand and increase their likelihood of making additional high-value transactions.\n",
    "\n",
    "- Personalized Communication: Craft personalized communication strategies to engage with customers in Cluster 2. Use targeted email marketing, personalized recommendations, and tailored content to keep them informed about new products, promotions, and special offers. By delivering relevant and customized messages, you can enhance their shopping experience and encourage ongoing transactions.\n",
    "\n",
    "- Feedback and Surveys: Regularly seek feedback from customers in Cluster 2 to understand their preferences, expectations, and pain points. Conduct surveys or collect reviews to gather insights on how to further improve their experience. Actively listen to their feedback and use it to refine your marketing strategies and offerings."
   ]
  },
  {
   "cell_type": "code",
   "execution_count": null,
   "id": "ef61fee7",
   "metadata": {},
   "outputs": [],
   "source": []
  }
 ],
 "metadata": {
  "kernelspec": {
   "display_name": "Python 3 (ipykernel)",
   "language": "python",
   "name": "python3"
  },
  "language_info": {
   "codemirror_mode": {
    "name": "ipython",
    "version": 3
   },
   "file_extension": ".py",
   "mimetype": "text/x-python",
   "name": "python",
   "nbconvert_exporter": "python",
   "pygments_lexer": "ipython3",
   "version": "3.9.7"
  }
 },
 "nbformat": 4,
 "nbformat_minor": 5
}
