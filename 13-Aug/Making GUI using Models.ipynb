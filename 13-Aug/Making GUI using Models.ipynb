{
 "cells": [
  {
   "cell_type": "code",
   "execution_count": 1,
   "id": "17d4f4de",
   "metadata": {},
   "outputs": [],
   "source": [
    "from tkinter import Label, Frame, PhotoImage"
   ]
  },
  {
   "cell_type": "code",
   "execution_count": 2,
   "id": "c82506e8",
   "metadata": {},
   "outputs": [],
   "source": [
    "import tkinter as tk\n",
    "from tkinter import filedialog\n",
    "from tkinter import Label\n",
    "from keras.models import load_model\n",
    "import cv2\n",
    "import numpy as np"
   ]
  },
  {
   "cell_type": "code",
   "execution_count": 3,
   "id": "991fcc84",
   "metadata": {},
   "outputs": [],
   "source": [
    "import tkinter as tk\n",
    "from tkinter import filedialog\n",
    "from tkinter import PhotoImage\n",
    "from PIL import Image, ImageTk \n"
   ]
  },
  {
   "cell_type": "code",
   "execution_count": 4,
   "id": "8515686e",
   "metadata": {},
   "outputs": [
    {
     "name": "stderr",
     "output_type": "stream",
     "text": [
      "F:\\anaconda3\\envs\\python_3_7\\lib\\site-packages\\ipykernel_launcher.py:12: DeprecationWarning: ANTIALIAS is deprecated and will be removed in Pillow 10 (2023-07-01). Use LANCZOS or Resampling.LANCZOS instead.\n",
      "  if sys.path[0] == '':\n"
     ]
    },
    {
     "name": "stdout",
     "output_type": "stream",
     "text": [
      "1/1 [==============================] - 1s 617ms/step\n",
      "1/1 [==============================] - 2s 2s/step\n",
      "1/1 [==============================] - 0s 340ms/step\n",
      "1/1 [==============================] - 0s 165ms/step\n",
      "1/1 [==============================] - 0s 361ms/step\n",
      "1/1 [==============================] - 0s 193ms/step\n",
      "1/1 [==============================] - 0s 422ms/step\n",
      "1/1 [==============================] - 0s 212ms/step\n"
     ]
    }
   ],
   "source": [
    "def preprocess_input_image(image_path):\n",
    "    img = cv2.imread(image_path)\n",
    "    img = cv2.resize(img, (224, 224))\n",
    "    img = img / 255.0\n",
    "    img = np.expand_dims(img, axis=0)\n",
    "    return img\n",
    "\n",
    "def open_image():\n",
    "    file_path = filedialog.askopenfilename()\n",
    "    if file_path:\n",
    "        img = Image.open(file_path)\n",
    "        img = img.resize((400, 400), Image.ANTIALIAS)\n",
    "        img = ImageTk.PhotoImage(img)\n",
    "        image_label.config(image=img)\n",
    "        image_label.image = img\n",
    "        vgg_prediction = predict_tumor(file_path, vgg_model)\n",
    "        resnet_prediction = predict_tumor(file_path, resnet_model)\n",
    "        result_label.config(text=f\"VGG Model Prediction: {vgg_prediction}\\nResNet Model Prediction: {resnet_prediction}\")\n",
    "\n",
    "def predict_tumor(image_path, model):\n",
    "    input_img = preprocess_input_image(image_path)\n",
    "    prediction = model.predict(input_img)\n",
    "    if prediction > 0.5:\n",
    "        return \"Tumor detected.\"\n",
    "    else:\n",
    "        return \"No tumor detected.\"\n",
    "\n",
    "vgg_model = load_model('vgg_brain_tumor_model.h5')\n",
    "resnet_model = load_model('resnet_brain_tumor_model.h5')\n",
    "root = tk.Tk()\n",
    "root.title(\"Brain Tumor Detection using Convolutional Neural Network\")\n",
    "window_width = 800\n",
    "window_height = 600\n",
    "screen_width = root.winfo_screenwidth()\n",
    "screen_height = root.winfo_screenheight()\n",
    "x = (screen_width - window_width) // 2\n",
    "y = (screen_height - window_height) // 2\n",
    "root.geometry(f\"{window_width}x{window_height}+{x}+{y}\")\n",
    "title_label = tk.Label(root, text=\"Brain Tumor Detection using Convolutional Neural Networks\", font=(\"Arial\", 16, \"bold\"))\n",
    "title_label.pack(pady=20)\n",
    "image_frame = tk.Frame(root)\n",
    "image_frame.pack(pady=10)\n",
    "image_label = tk.Label(image_frame)\n",
    "image_label.pack()\n",
    "open_button = tk.Button(root, text=\"Select Image for Prediction\", command=open_image)\n",
    "open_button.pack(pady=5)\n",
    "result_label = tk.Label(root, text=\"\", wraplength=400, justify=\"left\", font=(\"Arial\", 12))\n",
    "result_label.pack(pady=10)\n",
    "root.mainloop()"
   ]
  },
  {
   "cell_type": "code",
   "execution_count": null,
   "id": "0fcc0112",
   "metadata": {},
   "outputs": [],
   "source": []
  }
 ],
 "metadata": {
  "kernelspec": {
   "display_name": "Python 3 (ipykernel)",
   "language": "python",
   "name": "python3"
  },
  "language_info": {
   "codemirror_mode": {
    "name": "ipython",
    "version": 3
   },
   "file_extension": ".py",
   "mimetype": "text/x-python",
   "name": "python",
   "nbconvert_exporter": "python",
   "pygments_lexer": "ipython3",
   "version": "3.7.11"
  }
 },
 "nbformat": 4,
 "nbformat_minor": 5
}
